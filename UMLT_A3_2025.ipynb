{
 "cells": [
  {
   "cell_type": "markdown",
   "metadata": {},
   "source": [
    "\n",
    "## Sign Language Image Classification using Deep Learning"
   ]
  },
  {
   "cell_type": "markdown",
   "metadata": {},
   "source": [
    "In this project you will implement different deep learning networks to classify images of hands in poses that correspond to letters in American Sign Language. The dataset is contained in the assignment zip file, along with some images and a text file describing the dataset. It is similar in many ways to other MNIST datasets.\n",
    "\n",
    "The American Sign Language letter database of hand gestures represent a multi-class problem with 24 classes of letters (**excluding J and Z which require motion**). The dataset format is patterned to match closely with the classic MNIST. Each training and test case represents a label (0-25) as a one-to-one map for each alphabetic letter A-Z (and **no cases for 9=J or 25=Z because of gesture motions**). The training data (27,455 cases) and test data (7172 cases) are approximately half the size of the standard MNIST but otherwise similar with a header row of label, $pixel_{1}$,$pixel_{2}$….$pixel_{784}$ which represent a single 28x28 pixel image with grayscale values between 0-255.\n",
    "\n",
    "## Scenario\n",
    "\n",
    "A client is interested in having you (or rather the company that you work for) investigate whether it is possible to develop an app that would enable American sign language to be translated for people that do not sign, or those that sign in different languages/styles. They have provided you with a labelled data of images related to signs (hand positions) that represent individual letters in order to do a preliminary test of feasibility.\n",
    "\n",
    "Your manager has asked you to do this feasibility assessment, but subject to a constraint on the computational facilities available.  More specifically, you are asked to do **no more than 100 training runs in total** (including all models and hyperparameter settings that you consider).  \n",
    "\n",
    "The task requires you to create a Jupyter Notebook to perform 22 steps. These steps involve loading the dataset, fixing data problems, converting labels to one-hot encoding, plotting sample images, creating, training, and evaluating two sequential models with 20 Dense layers with 100 neurons each, checking for better accuracy using MC Dropout, retraining the first model with performance scheduling, evaluating both models, using transfer learning to create a new model using pre-trained weights, freezing the weights of the pre-trained layers, adding new Dense layers, training and evaluating the new model, predicting and converting sign language to text using the best model.\n",
    "\n",
    "### IMPORTANT\n",
    "* Train all the models locally on your own machine. No model training should occur on Gradescope (GS).\n",
    "* After completing the training, upload the trained models' **h5 files** and their training histories along with your notebook to GS.\n",
    "    * best_dnn_bn_model.keras\n",
    "    * best_dnn_bn_perf_model.keras\n",
    "    * best_dnn_selu_model.keras\n",
    "    * best_mobilenet_model.keras\n",
    "    * history1\n",
    "    * history2\n",
    "    * history1_perf\n",
    "    * historymb\n",
    "* To avoid any confusion and poor training on GS, please remember to comment out the training code in your notebook before uploading it to GS.\n"
   ]
  },
  {
   "cell_type": "code",
   "execution_count": null,
   "metadata": {},
   "outputs": [
    {
     "name": "stdout",
     "output_type": "stream",
     "text": [
      "2.16.1\n",
      "3.3.3\n"
     ]
    }
   ],
   "source": [
    "# import the necessary libraries (TensorFlow, sklearn NumPy, Pandas, Matplotlib and cv2) \n",
    "import tensorflow as tf\n",
    "from tensorflow import keras\n",
    "print(tf.__version__)\n",
    "print(keras.__version__)\n",
    "\n",
    "import numpy as np\n",
    "import pandas as pd     \n",
    "import matplotlib.pyplot as plt\n",
    "import os"
   ]
  },
  {
   "cell_type": "markdown",
   "metadata": {},
   "source": [
    "**Step0** This test is for checking whether all the required files are submitted. Once you submit all the required files to the autograder, you will be able to pass this step.\n",
    "\n",
    "**IMPORTANT:** Run this step to determine whether you have created all the required files correctly.\n",
    "\n",
    "_Points:_ 1"
   ]
  },
  {
   "cell_type": "code",
   "execution_count": null,
   "metadata": {},
   "outputs": [
    {
     "name": "stdout",
     "output_type": "stream",
     "text": [
      "One or more files are missing!\n"
     ]
    }
   ],
   "source": [
    "# Don't change this cell code\n",
    "required_files = ['best_dnn_bn_model.keras','best_dnn_bn_perf_model.keras','best_dnn_selu_model.keras','best_mobilenet_model.keras','history1','history2','history1_perf','historymb']\n",
    "step0_files = True\n",
    "for file in required_files:\n",
    "    if os.path.exists(file) == False:\n",
    "        step0_files = False\n",
    "        print(\"One or more files are missing!\")\n",
    "        break\n",
    "\n",
    "# The following code is used by the autograder. Do not modify it.   \n",
    "step0_data = step0_files"
   ]
  },
  {
   "cell_type": "code",
   "execution_count": null,
   "metadata": {},
   "outputs": [
    {
     "ename": "NameError",
     "evalue": "name 'grader' is not defined",
     "output_type": "error",
     "traceback": [
      "\u001b[0;31m---------------------------------------------------------------------------\u001b[0m",
      "\u001b[0;31mNameError\u001b[0m                                 Traceback (most recent call last)",
      "Cell \u001b[0;32mIn[3], line 1\u001b[0m\n\u001b[0;32m----> 1\u001b[0m grader\u001b[38;5;241m.\u001b[39mcheck(\u001b[38;5;124m\"\u001b[39m\u001b[38;5;124mstep00\u001b[39m\u001b[38;5;124m\"\u001b[39m)\n",
      "\u001b[0;31mNameError\u001b[0m: name 'grader' is not defined"
     ]
    }
   ],
   "source": [
    "grader.check(\"step00\")"
   ]
  },
  {
   "cell_type": "markdown",
   "metadata": {},
   "source": [
    "### Data Preprocessing"
   ]
  },
  {
   "cell_type": "markdown",
   "metadata": {},
   "source": [
    "**STEP1** Load the dataset (train and test) using `Pandas` from the CSV file.\n",
    "\n",
    "_Points:_ 1"
   ]
  },
  {
   "cell_type": "code",
   "execution_count": null,
   "metadata": {},
   "outputs": [],
   "source": [
    "# Load the train and test dataset and store them in train_df and test_df\n",
    "import pandas as pd\n",
    "\n",
    "train_df = pd.read_csv('sign_mnist_train.csv')\n",
    "\n",
    "test_df = pd.read_csv('sign_mnist_test.csv')\n",
    "\n",
    "# The following code is used by the autograder. Do not modify it.\n",
    "step1_sol = test_df.shape"
   ]
  },
  {
   "cell_type": "code",
   "execution_count": null,
   "metadata": {},
   "outputs": [
    {
     "ename": "NameError",
     "evalue": "name 'grader' is not defined",
     "output_type": "error",
     "traceback": [
      "\u001b[0;31m---------------------------------------------------------------------------\u001b[0m",
      "\u001b[0;31mNameError\u001b[0m                                 Traceback (most recent call last)",
      "Cell \u001b[0;32mIn[5], line 1\u001b[0m\n\u001b[0;32m----> 1\u001b[0m grader\u001b[38;5;241m.\u001b[39mcheck(\u001b[38;5;124m\"\u001b[39m\u001b[38;5;124mstep01\u001b[39m\u001b[38;5;124m\"\u001b[39m)\n",
      "\u001b[0;31mNameError\u001b[0m: name 'grader' is not defined"
     ]
    }
   ],
   "source": [
    "grader.check(\"step01\")"
   ]
  },
  {
   "cell_type": "markdown",
   "metadata": {},
   "source": [
    "**STEP2** Examine the data and fix any problems. Make sure it has 24 classes, starting from class 0. In addition, normalize the values of your images in a range of 0 and 1.\n",
    "\n",
    "_Points:_ 1"
   ]
  },
  {
   "cell_type": "code",
   "execution_count": null,
   "metadata": {},
   "outputs": [
    {
     "name": "stdout",
     "output_type": "stream",
     "text": [
      "23\n"
     ]
    }
   ],
   "source": [
    "# Separate labels and pixel values in training and testing sets and assign it to train_labels and train_images\n",
    "# re-import data as this step directly manipulates it\n",
    "train_df = pd.read_csv('sign_mnist_train.csv')\n",
    "test_df = pd.read_csv('sign_mnist_test.csv')\n",
    "\n",
    "# ensuring only labels between 0 and 24 are used\n",
    "train_df = train_df[(train_df['label'] >= 0) & (train_df['label'] <= 24)]\n",
    "test_df = test_df[(test_df['label'] >= 0) & (test_df['label'] <= 24)]\n",
    "\n",
    "# since J is not included, subtract 1 from labels from 9 upwards\n",
    "\n",
    "train_df.loc[train_df['label'] >= 9, 'label'] -= 1\n",
    "test_df.loc[test_df['label'] >= 9, 'label'] -= 1\n",
    "\n",
    "train_labels = train_df['label'].values\n",
    "train_images = train_df.drop(columns='label').values / 255.0\n",
    "\n",
    "test_labels = test_df['label'].values\n",
    "test_images = test_df.drop(columns='label').values / 255.0\n",
    "\n",
    "print(max(train_labels))\n",
    "# The following code is used by the autograder. Do not modify it.\n",
    "step2_sol = {\n",
    "    \"max_label_train\": max(train_labels),\n",
    "    \"min_label_train\": min(train_labels),\n",
    "    \"max_pixel_value_train\": max(train_images.ravel()),\n",
    "    \"min_pixel_value_train\": min(train_images.ravel()),\n",
    "    \"max_label_test\": max(test_labels),\n",
    "    \"min_label_test\": min(test_labels),\n",
    "    \"max_pixel_value_test\": max(test_images.ravel()),\n",
    "    \"min_pixel_value_test\": min(test_images.ravel())\n",
    "}"
   ]
  },
  {
   "cell_type": "code",
   "execution_count": null,
   "metadata": {},
   "outputs": [
    {
     "ename": "NameError",
     "evalue": "name 'grader' is not defined",
     "output_type": "error",
     "traceback": [
      "\u001b[0;31m---------------------------------------------------------------------------\u001b[0m",
      "\u001b[0;31mNameError\u001b[0m                                 Traceback (most recent call last)",
      "Cell \u001b[0;32mIn[7], line 1\u001b[0m\n\u001b[0;32m----> 1\u001b[0m grader\u001b[38;5;241m.\u001b[39mcheck(\u001b[38;5;124m\"\u001b[39m\u001b[38;5;124mstep02\u001b[39m\u001b[38;5;124m\"\u001b[39m)\n",
      "\u001b[0;31mNameError\u001b[0m: name 'grader' is not defined"
     ]
    }
   ],
   "source": [
    "grader.check(\"step02\")"
   ]
  },
  {
   "cell_type": "markdown",
   "metadata": {},
   "source": [
    "**STEP3** Convert Labels to One-Hot Encoding both train and test.\n",
    "\n",
    "_Points:_ 1"
   ]
  },
  {
   "cell_type": "code",
   "execution_count": null,
   "metadata": {},
   "outputs": [],
   "source": [
    "import numpy as np\n",
    "import tensorflow as tf\n",
    "from tensorflow import keras\n",
    "from tensorflow.keras.utils import to_categorical\n",
    "# Number of classes\n",
    "num_classes = 24\n",
    "train_labels_encoded = to_categorical(train_labels, num_classes=num_classes)\n",
    "test_labels_encoded = to_categorical(test_labels, num_classes=num_classes)\n",
    "\n",
    "# The following code is used by the autograder. Do not modify it.\n",
    "step3_sol = {\n",
    "    \"train_labels_shape\": train_labels_encoded.shape,\n",
    "    \"test_labels_shape\": test_labels_encoded.shape,\n",
    "    \"sample_train_label\": train_labels_encoded[0],\n",
    "    \"sample_test_label\": test_labels_encoded[0]\n",
    "}"
   ]
  },
  {
   "cell_type": "code",
   "execution_count": null,
   "metadata": {},
   "outputs": [
    {
     "ename": "NameError",
     "evalue": "name 'grader' is not defined",
     "output_type": "error",
     "traceback": [
      "\u001b[0;31m---------------------------------------------------------------------------\u001b[0m",
      "\u001b[0;31mNameError\u001b[0m                                 Traceback (most recent call last)",
      "Cell \u001b[0;32mIn[9], line 1\u001b[0m\n\u001b[0;32m----> 1\u001b[0m grader\u001b[38;5;241m.\u001b[39mcheck(\u001b[38;5;124m\"\u001b[39m\u001b[38;5;124mstep03\u001b[39m\u001b[38;5;124m\"\u001b[39m)\n",
      "\u001b[0;31mNameError\u001b[0m: name 'grader' is not defined"
     ]
    }
   ],
   "source": [
    "grader.check(\"step03\")"
   ]
  },
  {
   "cell_type": "markdown",
   "metadata": {},
   "source": [
    "**STEP4** Plot one sample image for each letter in the dataset given in the training set. To solve this step you should use the function `imshow` to diplay your images in a similar to the image below.\n",
    "\n",
    "<center><img src=\"example_letters.jpg\" width=400 height=300/></center>\n",
    "\n",
    "\n",
    "\n",
    "\n",
    "\n",
    "_Points:_ 0"
   ]
  },
  {
   "cell_type": "code",
   "execution_count": null,
   "metadata": {},
   "outputs": [
    {
     "name": "stdout",
     "output_type": "stream",
     "text": [
      "[0, 1, 2, 3, 4, 5, 6, 7, 8, 9, 10, 11, 12, 13, 14, 15, 16, 17, 18, 19, 20, 21, 22, 23]\n"
     ]
    },
    {
     "data": {
      "image/png": "[encoded data removed]",
      "text/plain": [
       "<Figure size 1200x800 with 24 Axes>"
      ]
     },
     "metadata": {},
     "output_type": "display_data"
    }
   ],
   "source": [
    "# Get one sample image for each label\n",
    "import matplotlib.pyplot as plt\n",
    "sample_images = {}\n",
    "\n",
    "for img, label in zip(train_images, train_labels):\n",
    "    if label not in sample_images:\n",
    "        sample_images[label] = img\n",
    "    if len(sample_images) == 24:\n",
    "        break\n",
    "\n",
    "sorted_labels = sorted(sample_images.keys())\n",
    "print(sorted_labels)\n",
    "\n",
    "plt.figure(figsize=(12, 8))\n",
    "for i, label in enumerate(sorted_labels):\n",
    "    plt.subplot(4, 6, i + 1)\n",
    "    plt.imshow(sample_images[label].reshape(28, 28), cmap='gray')\n",
    "    plt.title(f\"Label {label}\")\n",
    "    plt.axis('off')\n",
    "\n",
    "plt.tight_layout()\n",
    "plt.show()\n",
    "\n",
    "# Plot the sample images"
   ]
  },
  {
   "cell_type": "code",
   "execution_count": null,
   "metadata": {},
   "outputs": [
    {
     "ename": "NameError",
     "evalue": "name 'grader' is not defined",
     "output_type": "error",
     "traceback": [
      "\u001b[0;31m---------------------------------------------------------------------------\u001b[0m",
      "\u001b[0;31mNameError\u001b[0m                                 Traceback (most recent call last)",
      "Cell \u001b[0;32mIn[11], line 1\u001b[0m\n\u001b[0;32m----> 1\u001b[0m grader\u001b[38;5;241m.\u001b[39mcheck(\u001b[38;5;124m\"\u001b[39m\u001b[38;5;124mstep04\u001b[39m\u001b[38;5;124m\"\u001b[39m)\n",
      "\u001b[0;31mNameError\u001b[0m: name 'grader' is not defined"
     ]
    }
   ],
   "source": [
    "grader.check(\"step04\")"
   ]
  },
  {
   "cell_type": "markdown",
   "metadata": {},
   "source": [
    "## Create Neural Network Architectures\n",
    "\n",
    "In this part you should create two different models (model1 and model2) with different architectures."
   ]
  },
  {
   "cell_type": "markdown",
   "metadata": {},
   "source": [
    "**STEP5** \n",
    "Create one sequential model in `TensorFlow` with 20 Dense layers with 100 neurons each one. Consider the specific modifications that you need to do in order to work with your specific input and those to get the required output. \n",
    "\n",
    "* This model uses Batch Normalization after each Dense layer and uses He initialization for all of them. Apply Swish activation following each Batch Normalization.\n",
    "* The input layer should be able to accept data of shape (784,), which corresponds to the flattened image data. The output layer should produce 24 outputs to correspond to each class.\n",
    "\n",
    "\n",
    "_Points:_ 5"
   ]
  },
  {
   "cell_type": "code",
   "execution_count": null,
   "metadata": {},
   "outputs": [],
   "source": [
    "# import libraries like dense, BatchNormalization, swish, InputLayer\n",
    "from tensorflow.keras.models import Sequential\n",
    "from tensorflow.keras.layers import Dense, BatchNormalization, InputLayer\n",
    "from tensorflow.keras.layers import Activation\n",
    "from tensorflow.keras.activations import swish\n",
    "from tensorflow.keras.initializers import HeNormal\n",
    "\n",
    "# Model 1: with Batch Normalization\n",
    "model1 = Sequential()\n",
    "\n",
    "# Input layer\n",
    "model1.add(InputLayer(shape=(784,)))\n",
    "\n",
    "for _ in range(20):\n",
    "    model1.add(Dense(100, kernel_initializer=HeNormal()))\n",
    "    model1.add(BatchNormalization())\n",
    "    model1.add(Activation('swish'))\n",
    "\n",
    "# Output layer with 24 units, softmax activation for classification\n",
    "model1.add(Dense(24, activation='softmax'))\n",
    "    \n",
    "# The following code is used by the autograder. Do not modify it.\n",
    "step5_sol = {\n",
    "    \"total_layers\": len(model1.layers),\n",
    "    \"output_activation\": model1.layers[-1].activation.__name__,\n",
    "    \"first_layer_input_shape\": model1.layers[0].input.shape,\n",
    "    \"last_layer_output_units\": model1.layers[-1].units,\n",
    "    \"batch_norm_count\": sum([1 for layer in model1.layers if isinstance(layer, BatchNormalization)]),\n",
    "    \"swish_activation_count\": sum([1 for layer in model1.layers if hasattr(layer, 'activation') and layer.activation == swish]),\n",
    "}"
   ]
  },
  {
   "cell_type": "code",
   "execution_count": null,
   "metadata": {},
   "outputs": [
    {
     "ename": "NameError",
     "evalue": "name 'grader' is not defined",
     "output_type": "error",
     "traceback": [
      "\u001b[0;31m---------------------------------------------------------------------------\u001b[0m",
      "\u001b[0;31mNameError\u001b[0m                                 Traceback (most recent call last)",
      "Cell \u001b[0;32mIn[13], line 1\u001b[0m\n\u001b[0;32m----> 1\u001b[0m grader\u001b[38;5;241m.\u001b[39mcheck(\u001b[38;5;124m\"\u001b[39m\u001b[38;5;124mstep05\u001b[39m\u001b[38;5;124m\"\u001b[39m)\n",
      "\u001b[0;31mNameError\u001b[0m: name 'grader' is not defined"
     ]
    }
   ],
   "source": [
    "grader.check(\"step05\")"
   ]
  },
  {
   "cell_type": "markdown",
   "metadata": {},
   "source": [
    "**STEP6** \n",
    "Create a second sequential model in `TensorFlow` . This model should incorporate specific features to promote self-normalization and include regularization:\n",
    "\n",
    "* Layers and Neurons: Construct the model with 20 Dense layers, each containing 100 neurons.\n",
    "* Activation and Initialization:\n",
    "  * Use SELU (Scaled Exponential Linear Unit) activation for each Dense layer to ensure self-normalization.\n",
    "  * Initialize weights using the LeCun normal initializer in all Dense layers.\n",
    "* Regularization:\n",
    "  * Integrate Dropout with a rate of 0.1 after every second Dense layer starting from the second Dense layer to enhance model regularization without breaking self-normalization.\n",
    "* Input and Output:\n",
    "  * The input layer should accept flattened images with a dimension of 784 (28x28 images flattened).\n",
    "  * The output layer should consist of 24 neurons with softmax activation to handle multi-class classification.\n",
    "\n",
    "_Points:_ 5"
   ]
  },
  {
   "cell_type": "code",
   "execution_count": null,
   "metadata": {},
   "outputs": [],
   "source": [
    "from tensorflow.keras.layers import Dropout\n",
    "from tensorflow.keras.initializers import lecun_normal\n",
    "\n",
    "# Model 2: with SELU and self-normalization\n",
    "model2 = Sequential()\n",
    "\n",
    "# Input layer\n",
    "model2.add(InputLayer(shape=(784,)))\n",
    "\n",
    "for i in range(20):\n",
    "    model2.add(Dense(100, kernel_initializer=lecun_normal(), activation='selu'))\n",
    "    # Add Dropout with rate 0.1 after every 2nd Dense layer (2nd, 4th, 6th, ...)\n",
    "    if (i + 1) % 2 == 0:\n",
    "        model2.add(Dropout(0.1))\n",
    "\n",
    "# Output layer with 24 units, softmax activation\n",
    "model2.add(Dense(24, activation='softmax'))\n",
    "\n",
    "# The following code is used by the autograder. Do not modify it.\n",
    "step6_sol = {\n",
    "    \"total_layers\": len(model2.layers),\n",
    "    \"dropout_count\": sum([1 for layer in model2.layers if isinstance(layer, Dropout)]),\n",
    "    \"selu_count\": sum([1 for layer in model2.layers if hasattr(layer, 'activation') and layer.activation.__name__ == 'selu']),\n",
    "    \"first_layer_config\": model2.layers[0].get_config(),\n",
    "    \"output_layer_activation\": model2.layers[-1].activation.__name__\n",
    "}"
   ]
  },
  {
   "cell_type": "code",
   "execution_count": null,
   "metadata": {},
   "outputs": [
    {
     "ename": "NameError",
     "evalue": "name 'grader' is not defined",
     "output_type": "error",
     "traceback": [
      "\u001b[0;31m---------------------------------------------------------------------------\u001b[0m",
      "\u001b[0;31mNameError\u001b[0m                                 Traceback (most recent call last)",
      "Cell \u001b[0;32mIn[15], line 1\u001b[0m\n\u001b[0;32m----> 1\u001b[0m grader\u001b[38;5;241m.\u001b[39mcheck(\u001b[38;5;124m\"\u001b[39m\u001b[38;5;124mstep06\u001b[39m\u001b[38;5;124m\"\u001b[39m)\n",
      "\u001b[0;31mNameError\u001b[0m: name 'grader' is not defined"
     ]
    }
   ],
   "source": [
    "grader.check(\"step06\")"
   ]
  },
  {
   "cell_type": "markdown",
   "metadata": {},
   "source": [
    "## Compile the Models"
   ]
  },
  {
   "cell_type": "markdown",
   "metadata": {},
   "source": [
    "**STEP7** \n",
    "Compile the both previous models using **Nadam** optimization. Also:\n",
    "\n",
    "* Set the loss function to categorical cross-entropy. \n",
    "* Set the metric to accuracy.\n",
    "\n",
    "_Points:_ 2"
   ]
  },
  {
   "cell_type": "code",
   "execution_count": null,
   "metadata": {},
   "outputs": [],
   "source": [
    "from tensorflow.keras.optimizers import Nadam\n",
    "\n",
    "# Compile both models\n",
    "\n",
    "# Compile model1\n",
    "model1.compile(\n",
    "    optimizer=Nadam(),\n",
    "    loss='categorical_crossentropy',\n",
    "    metrics=['accuracy']\n",
    ")\n",
    "\n",
    "# Compile model2\n",
    "model2.compile(\n",
    "    optimizer=Nadam(),\n",
    "    loss='categorical_crossentropy',\n",
    "    metrics=['accuracy']\n",
    ")\n",
    "# The following code is used by the autograder. Do not modify it.\n",
    "step7_sol = {\n",
    "    \"model1_config\": {\n",
    "        \"optimizer\": str(model1.optimizer.__class__.__name__),\n",
    "        \"loss\": model1.loss        \n",
    "    },\n",
    "    \"model2_config\": {\n",
    "        \"optimizer\": str(model2.optimizer.__class__.__name__),\n",
    "        \"loss\": model2.loss,        \n",
    "    }\n",
    "}"
   ]
  },
  {
   "cell_type": "code",
   "execution_count": null,
   "metadata": {},
   "outputs": [
    {
     "ename": "NameError",
     "evalue": "name 'grader' is not defined",
     "output_type": "error",
     "traceback": [
      "\u001b[0;31m---------------------------------------------------------------------------\u001b[0m",
      "\u001b[0;31mNameError\u001b[0m                                 Traceback (most recent call last)",
      "Cell \u001b[0;32mIn[17], line 1\u001b[0m\n\u001b[0;32m----> 1\u001b[0m grader\u001b[38;5;241m.\u001b[39mcheck(\u001b[38;5;124m\"\u001b[39m\u001b[38;5;124mstep07\u001b[39m\u001b[38;5;124m\"\u001b[39m)\n",
      "\u001b[0;31mNameError\u001b[0m: name 'grader' is not defined"
     ]
    }
   ],
   "source": [
    "grader.check(\"step07\")"
   ]
  },
  {
   "cell_type": "markdown",
   "metadata": {},
   "source": [
    "## Model Training"
   ]
  },
  {
   "cell_type": "markdown",
   "metadata": {},
   "source": [
    "**STEP8** One of these models work preferably with data, which follow a normal distribution. Generate **train_images_scaled** and **test_images_scaled** using a `Sklearn` function that allow you to convert data to a normal distribution with mean 0 and variance equal 1 and store it in train_images_scaled and test_images_scaled\n",
    "\n",
    "_Points:_ 2"
   ]
  },
  {
   "cell_type": "code",
   "execution_count": null,
   "metadata": {},
   "outputs": [],
   "source": [
    "from sklearn.preprocessing import StandardScaler\n",
    "\n",
    "# Initialize scaler\n",
    "scaler = StandardScaler()\n",
    "\n",
    "# Fit on training data and transform both train and test images\n",
    "train_images_scaled = scaler.fit_transform(train_images)\n",
    "test_images_scaled = scaler.transform(test_images)\n",
    "\n",
    "\n",
    "# The following code is used by the autograder. Do not modify it.\n",
    "step8_sol = (np.mean(train_images_scaled),np.mean(test_images_scaled),np.std(train_images_scaled),np.std(test_images_scaled))"
   ]
  },
  {
   "cell_type": "code",
   "execution_count": null,
   "metadata": {},
   "outputs": [
    {
     "ename": "NameError",
     "evalue": "name 'grader' is not defined",
     "output_type": "error",
     "traceback": [
      "\u001b[0;31m---------------------------------------------------------------------------\u001b[0m",
      "\u001b[0;31mNameError\u001b[0m                                 Traceback (most recent call last)",
      "Cell \u001b[0;32mIn[19], line 1\u001b[0m\n\u001b[0;32m----> 1\u001b[0m grader\u001b[38;5;241m.\u001b[39mcheck(\u001b[38;5;124m\"\u001b[39m\u001b[38;5;124mstep08\u001b[39m\u001b[38;5;124m\"\u001b[39m)\n",
      "\u001b[0;31mNameError\u001b[0m: name 'grader' is not defined"
     ]
    }
   ],
   "source": [
    "grader.check(\"step08\")"
   ]
  },
  {
   "cell_type": "markdown",
   "metadata": {},
   "source": [
    "**STEP9** Train the two models on the training dataset using early stopping. In order to save the results given by your training for your models, create checkpoints saving the best model in each case using the function `ModelCheckpoint`. Note that one of the models use the scaled data obtained in **STEP8**. Meanwhile, the other model does not. Figure out which is the proper input data for each model.\n",
    "\n",
    "* Limit the number of epochs to 100. Set the batch size to or greater than 32.\n",
    "\n",
    "**IMPORTANT:** Comment out the code to train/fit the two models. Keep the code given to save the models.\n",
    "\n",
    "_Points:_ 3"
   ]
  },
  {
   "cell_type": "code",
   "execution_count": null,
   "metadata": {},
   "outputs": [
    {
     "name": "stdout",
     "output_type": "stream",
     "text": [
      "Epoch 1/100\n",
      "\u001b[1m687/687\u001b[0m \u001b[32m━━━━━━━━━━━━━━━━━━━━\u001b[0m\u001b[37m\u001b[0m \u001b[1m7s\u001b[0m 4ms/step - accuracy: 0.2475 - loss: 2.5119 - val_accuracy: 0.6365 - val_loss: 1.0191\n",
      "Epoch 2/100\n",
      "\u001b[1m687/687\u001b[0m \u001b[32m━━━━━━━━━━━━━━━━━━━━\u001b[0m\u001b[37m\u001b[0m \u001b[1m3s\u001b[0m 4ms/step - accuracy: 0.6039 - loss: 1.1478 - val_accuracy: 0.6955 - val_loss: 0.8134\n",
      "Epoch 3/100\n",
      "\u001b[1m687/687\u001b[0m \u001b[32m━━━━━━━━━━━━━━━━━━━━\u001b[0m\u001b[37m\u001b[0m \u001b[1m3s\u001b[0m 4ms/step - accuracy: 0.7326 - loss: 0.8012 - val_accuracy: 0.8814 - val_loss: 0.3652\n",
      "Epoch 4/100\n",
      "\u001b[1m687/687\u001b[0m \u001b[32m━━━━━━━━━━━━━━━━━━━━\u001b[0m\u001b[37m\u001b[0m \u001b[1m3s\u001b[0m 4ms/step - accuracy: 0.8218 - loss: 0.5859 - val_accuracy: 0.8809 - val_loss: 0.3997\n",
      "Epoch 5/100\n",
      "\u001b[1m687/687\u001b[0m \u001b[32m━━━━━━━━━━━━━━━━━━━━\u001b[0m\u001b[37m\u001b[0m \u001b[1m3s\u001b[0m 4ms/step - accuracy: 0.8479 - loss: 0.5132 - val_accuracy: 0.8924 - val_loss: 0.3475\n",
      "Epoch 6/100\n",
      "\u001b[1m687/687\u001b[0m \u001b[32m━━━━━━━━━━━━━━━━━━━━\u001b[0m\u001b[37m\u001b[0m \u001b[1m3s\u001b[0m 4ms/step - accuracy: 0.8696 - loss: 0.4695 - val_accuracy: 0.9155 - val_loss: 0.2808\n",
      "Epoch 7/100\n",
      "\u001b[1m687/687\u001b[0m \u001b[32m━━━━━━━━━━━━━━━━━━━━\u001b[0m\u001b[37m\u001b[0m \u001b[1m3s\u001b[0m 4ms/step - accuracy: 0.8790 - loss: 0.4321 - val_accuracy: 0.9255 - val_loss: 0.2449\n",
      "Epoch 8/100\n",
      "\u001b[1m687/687\u001b[0m \u001b[32m━━━━━━━━━━━━━━━━━━━━\u001b[0m\u001b[37m\u001b[0m \u001b[1m3s\u001b[0m 4ms/step - accuracy: 0.8887 - loss: 0.4043 - val_accuracy: 0.9250 - val_loss: 0.2500\n",
      "Epoch 9/100\n",
      "\u001b[1m687/687\u001b[0m \u001b[32m━━━━━━━━━━━━━━━━━━━━\u001b[0m\u001b[37m\u001b[0m \u001b[1m3s\u001b[0m 4ms/step - accuracy: 0.8905 - loss: 0.4066 - val_accuracy: 0.8443 - val_loss: 0.7685\n",
      "Epoch 10/100\n",
      "\u001b[1m687/687\u001b[0m \u001b[32m━━━━━━━━━━━━━━━━━━━━\u001b[0m\u001b[37m\u001b[0m \u001b[1m3s\u001b[0m 4ms/step - accuracy: 0.8384 - loss: 0.5971 - val_accuracy: 0.9516 - val_loss: 0.1805\n",
      "Epoch 11/100\n",
      "\u001b[1m687/687\u001b[0m \u001b[32m━━━━━━━━━━━━━━━━━━━━\u001b[0m\u001b[37m\u001b[0m \u001b[1m3s\u001b[0m 5ms/step - accuracy: 0.9264 - loss: 0.2778 - val_accuracy: 0.9492 - val_loss: 0.1814\n",
      "Epoch 12/100\n",
      "\u001b[1m687/687\u001b[0m \u001b[32m━━━━━━━━━━━━━━━━━━━━\u001b[0m\u001b[37m\u001b[0m \u001b[1m3s\u001b[0m 5ms/step - accuracy: 0.9296 - loss: 0.3100 - val_accuracy: 0.9718 - val_loss: 0.1032\n",
      "Epoch 13/100\n",
      "\u001b[1m687/687\u001b[0m \u001b[32m━━━━━━━━━━━━━━━━━━━━\u001b[0m\u001b[37m\u001b[0m \u001b[1m3s\u001b[0m 5ms/step - accuracy: 0.9543 - loss: 0.1816 - val_accuracy: 0.8884 - val_loss: 0.4712\n",
      "Epoch 14/100\n",
      "\u001b[1m687/687\u001b[0m \u001b[32m━━━━━━━━━━━━━━━━━━━━\u001b[0m\u001b[37m\u001b[0m \u001b[1m3s\u001b[0m 4ms/step - accuracy: 0.8956 - loss: 0.4701 - val_accuracy: 0.8993 - val_loss: 0.4818\n",
      "Epoch 15/100\n",
      "\u001b[1m687/687\u001b[0m \u001b[32m━━━━━━━━━━━━━━━━━━━━\u001b[0m\u001b[37m\u001b[0m \u001b[1m3s\u001b[0m 4ms/step - accuracy: 0.8963 - loss: 0.4256 - val_accuracy: 0.9457 - val_loss: 0.2029\n",
      "Epoch 16/100\n",
      "\u001b[1m687/687\u001b[0m \u001b[32m━━━━━━━━━━━━━━━━━━━━\u001b[0m\u001b[37m\u001b[0m \u001b[1m3s\u001b[0m 4ms/step - accuracy: 0.9422 - loss: 0.2540 - val_accuracy: 0.8665 - val_loss: 0.4635\n",
      "Epoch 17/100\n",
      "\u001b[1m687/687\u001b[0m \u001b[32m━━━━━━━━━━━━━━━━━━━━\u001b[0m\u001b[37m\u001b[0m \u001b[1m3s\u001b[0m 4ms/step - accuracy: 0.8972 - loss: 0.4025 - val_accuracy: 0.9634 - val_loss: 0.1649\n",
      "Epoch 18/100\n",
      "\u001b[1m687/687\u001b[0m \u001b[32m━━━━━━━━━━━━━━━━━━━━\u001b[0m\u001b[37m\u001b[0m \u001b[1m3s\u001b[0m 4ms/step - accuracy: 0.9238 - loss: 0.3151 - val_accuracy: 0.9537 - val_loss: 0.1966\n",
      "Epoch 19/100\n",
      "\u001b[1m687/687\u001b[0m \u001b[32m━━━━━━━━━━━━━━━━━━━━\u001b[0m\u001b[37m\u001b[0m \u001b[1m3s\u001b[0m 4ms/step - accuracy: 0.9631 - loss: 0.1695 - val_accuracy: 0.9674 - val_loss: 0.1344\n",
      "Epoch 20/100\n",
      "\u001b[1m687/687\u001b[0m \u001b[32m━━━━━━━━━━━━━━━━━━━━\u001b[0m\u001b[37m\u001b[0m \u001b[1m4s\u001b[0m 5ms/step - accuracy: 0.9570 - loss: 0.1979 - val_accuracy: 0.9628 - val_loss: 0.2203\n",
      "Epoch 21/100\n",
      "\u001b[1m687/687\u001b[0m \u001b[32m━━━━━━━━━━━━━━━━━━━━\u001b[0m\u001b[37m\u001b[0m \u001b[1m4s\u001b[0m 6ms/step - accuracy: 0.9476 - loss: 0.2673 - val_accuracy: 0.9297 - val_loss: 0.2561\n",
      "Epoch 22/100\n",
      "\u001b[1m687/687\u001b[0m \u001b[32m━━━━━━━━━━━━━━━━━━━━\u001b[0m\u001b[37m\u001b[0m \u001b[1m4s\u001b[0m 5ms/step - accuracy: 0.9370 - loss: 0.2838 - val_accuracy: 0.9825 - val_loss: 0.0866\n",
      "Epoch 23/100\n",
      "\u001b[1m687/687\u001b[0m \u001b[32m━━━━━━━━━━━━━━━━━━━━\u001b[0m\u001b[37m\u001b[0m \u001b[1m4s\u001b[0m 5ms/step - accuracy: 0.9627 - loss: 0.1687 - val_accuracy: 0.9694 - val_loss: 0.1351\n",
      "Epoch 24/100\n",
      "\u001b[1m687/687\u001b[0m \u001b[32m━━━━━━━━━━━━━━━━━━━━\u001b[0m\u001b[37m\u001b[0m \u001b[1m4s\u001b[0m 5ms/step - accuracy: 0.9189 - loss: 0.3548 - val_accuracy: 0.9499 - val_loss: 0.1898\n",
      "Epoch 25/100\n",
      "\u001b[1m687/687\u001b[0m \u001b[32m━━━━━━━━━━━━━━━━━━━━\u001b[0m\u001b[37m\u001b[0m \u001b[1m3s\u001b[0m 5ms/step - accuracy: 0.9338 - loss: 0.2918 - val_accuracy: 0.9756 - val_loss: 0.1046\n",
      "Epoch 26/100\n",
      "\u001b[1m687/687\u001b[0m \u001b[32m━━━━━━━━━━━━━━━━━━━━\u001b[0m\u001b[37m\u001b[0m \u001b[1m3s\u001b[0m 4ms/step - accuracy: 0.9319 - loss: 0.2777 - val_accuracy: 0.9051 - val_loss: 0.3586\n",
      "Epoch 27/100\n",
      "\u001b[1m687/687\u001b[0m \u001b[32m━━━━━━━━━━━━━━━━━━━━\u001b[0m\u001b[37m\u001b[0m \u001b[1m3s\u001b[0m 4ms/step - accuracy: 0.9181 - loss: 0.3518 - val_accuracy: 0.9321 - val_loss: 0.2759\n",
      "Epoch 28/100\n",
      "\u001b[1m687/687\u001b[0m \u001b[32m━━━━━━━━━━━━━━━━━━━━\u001b[0m\u001b[37m\u001b[0m \u001b[1m3s\u001b[0m 5ms/step - accuracy: 0.9385 - loss: 0.2649 - val_accuracy: 0.9812 - val_loss: 0.0788\n",
      "Epoch 29/100\n",
      "\u001b[1m687/687\u001b[0m \u001b[32m━━━━━━━━━━━━━━━━━━━━\u001b[0m\u001b[37m\u001b[0m \u001b[1m4s\u001b[0m 6ms/step - accuracy: 0.9593 - loss: 0.1741 - val_accuracy: 0.8532 - val_loss: 0.6282\n",
      "Epoch 30/100\n",
      "\u001b[1m687/687\u001b[0m \u001b[32m━━━━━━━━━━━━━━━━━━━━\u001b[0m\u001b[37m\u001b[0m \u001b[1m4s\u001b[0m 5ms/step - accuracy: 0.8318 - loss: 0.6452 - val_accuracy: 0.9659 - val_loss: 0.1460\n",
      "Epoch 31/100\n",
      "\u001b[1m687/687\u001b[0m \u001b[32m━━━━━━━━━━━━━━━━━━━━\u001b[0m\u001b[37m\u001b[0m \u001b[1m3s\u001b[0m 5ms/step - accuracy: 0.9394 - loss: 0.2770 - val_accuracy: 0.9100 - val_loss: 1.0743\n",
      "Epoch 32/100\n",
      "\u001b[1m687/687\u001b[0m \u001b[32m━━━━━━━━━━━━━━━━━━━━\u001b[0m\u001b[37m\u001b[0m \u001b[1m3s\u001b[0m 5ms/step - accuracy: 0.9075 - loss: 0.3800 - val_accuracy: 0.9599 - val_loss: 0.1480\n",
      "Epoch 33/100\n",
      "\u001b[1m687/687\u001b[0m \u001b[32m━━━━━━━━━━━━━━━━━━━━\u001b[0m\u001b[37m\u001b[0m \u001b[1m3s\u001b[0m 5ms/step - accuracy: 0.9536 - loss: 0.1906 - val_accuracy: 0.9772 - val_loss: 0.0729\n",
      "Epoch 34/100\n",
      "\u001b[1m687/687\u001b[0m \u001b[32m━━━━━━━━━━━━━━━━━━━━\u001b[0m\u001b[37m\u001b[0m \u001b[1m3s\u001b[0m 5ms/step - accuracy: 0.9714 - loss: 0.1197 - val_accuracy: 0.9876 - val_loss: 0.0499\n",
      "Epoch 35/100\n",
      "\u001b[1m687/687\u001b[0m \u001b[32m━━━━━━━━━━━━━━━━━━━━\u001b[0m\u001b[37m\u001b[0m \u001b[1m3s\u001b[0m 5ms/step - accuracy: 0.9367 - loss: 0.2376 - val_accuracy: 0.8323 - val_loss: 0.6343\n",
      "Epoch 36/100\n",
      "\u001b[1m687/687\u001b[0m \u001b[32m━━━━━━━━━━━━━━━━━━━━\u001b[0m\u001b[37m\u001b[0m \u001b[1m4s\u001b[0m 5ms/step - accuracy: 0.8626 - loss: 0.4753 - val_accuracy: 0.9700 - val_loss: 0.1051\n",
      "Epoch 37/100\n",
      "\u001b[1m687/687\u001b[0m \u001b[32m━━━━━━━━━━━━━━━━━━━━\u001b[0m\u001b[37m\u001b[0m \u001b[1m4s\u001b[0m 5ms/step - accuracy: 0.9263 - loss: 0.2765 - val_accuracy: 0.7986 - val_loss: 0.6978\n",
      "Epoch 38/100\n",
      "\u001b[1m687/687\u001b[0m \u001b[32m━━━━━━━━━━━━━━━━━━━━\u001b[0m\u001b[37m\u001b[0m \u001b[1m4s\u001b[0m 6ms/step - accuracy: 0.8006 - loss: 0.7238 - val_accuracy: 0.8816 - val_loss: 0.3002\n",
      "Epoch 39/100\n",
      "\u001b[1m687/687\u001b[0m \u001b[32m━━━━━━━━━━━━━━━━━━━━\u001b[0m\u001b[37m\u001b[0m \u001b[1m4s\u001b[0m 5ms/step - accuracy: 0.9059 - loss: 0.3393 - val_accuracy: 0.8803 - val_loss: 0.3398\n",
      "Epoch 40/100\n",
      "\u001b[1m687/687\u001b[0m \u001b[32m━━━━━━━━━━━━━━━━━━━━\u001b[0m\u001b[37m\u001b[0m \u001b[1m4s\u001b[0m 5ms/step - accuracy: 0.8651 - loss: 0.4938 - val_accuracy: 0.9328 - val_loss: 0.2043\n",
      "Epoch 41/100\n",
      "\u001b[1m687/687\u001b[0m \u001b[32m━━━━━━━━━━━━━━━━━━━━\u001b[0m\u001b[37m\u001b[0m \u001b[1m3s\u001b[0m 5ms/step - accuracy: 0.8550 - loss: 0.5344 - val_accuracy: 0.8175 - val_loss: 0.5868\n",
      "Epoch 42/100\n",
      "\u001b[1m687/687\u001b[0m \u001b[32m━━━━━━━━━━━━━━━━━━━━\u001b[0m\u001b[37m\u001b[0m \u001b[1m3s\u001b[0m 5ms/step - accuracy: 0.7396 - loss: 0.8777 - val_accuracy: 0.8155 - val_loss: 0.5793\n",
      "Epoch 43/100\n",
      "\u001b[1m687/687\u001b[0m \u001b[32m━━━━━━━━━━━━━━━━━━━━\u001b[0m\u001b[37m\u001b[0m \u001b[1m3s\u001b[0m 5ms/step - accuracy: 0.8129 - loss: 0.6046 - val_accuracy: 0.8900 - val_loss: 0.3487\n",
      "Epoch 44/100\n",
      "\u001b[1m687/687\u001b[0m \u001b[32m━━━━━━━━━━━━━━━━━━━━\u001b[0m\u001b[37m\u001b[0m \u001b[1m3s\u001b[0m 5ms/step - accuracy: 0.8783 - loss: 0.3989 - val_accuracy: 0.8969 - val_loss: 0.3479\n"
     ]
    }
   ],
   "source": [
    "import pickle\n",
    "from tensorflow.keras.callbacks import EarlyStopping, ModelCheckpoint\n",
    "\n",
    "# The following line of code is used by the autograder. Do not modify it.\n",
    "history1, history2 = None, None\n",
    " \n",
    "# We go to set a seed to get the same results every run\n",
    "np.random.seed(42)\n",
    "tf.random.set_seed(42)\n",
    "\n",
    "# Set up early stopping\n",
    "early_stopping = EarlyStopping(monitor='val_loss', patience=10, restore_best_weights=True)\n",
    "# Define model checkpoint callback\n",
    "model1_checkpoint_cb = ModelCheckpoint('best_dnn_bn_model.keras', save_best_only=True, monitor='val_loss')\n",
    "model2_checkpoint_cb = ModelCheckpoint('best_dnn_selu_model.keras', save_best_only=True, monitor='val_loss')\n",
    "\n",
    "#################################### Perform the training on your machine and then comment out the following section before uploading it to gradescope. \n",
    "# Make sure your best model is named as follows:\n",
    "# Model1 filename = best_dnn_bn_model.keras\n",
    "# Model2 filename = best_dnn_selu_model.keras\n",
    "\n",
    "# Train model 1 (Comment this out before submission)\n",
    "# history1 = model1.fit(train_images, train_labels_encoded,\n",
    "#                       validation_split=0.2,\n",
    "#                       epochs=100,\n",
    "#                       batch_size=32,\n",
    "#                       callbacks=[early_stopping, model1_checkpoint_cb])\n",
    "\n",
    "\n",
    "# Train model 2 (Comment this out before submission)\n",
    "history2 = model2.fit(train_images_scaled, train_labels_encoded,\n",
    "                      validation_split=0.2,\n",
    "                      epochs=100,\n",
    "                      batch_size=32,\n",
    "                      callbacks=[early_stopping, model2_checkpoint_cb])\n",
    "\n",
    "\n",
    "# The following code will save your history - don't change it.\n",
    "#if 'history1' in globals():  \n",
    "#    with open('./history1', 'wb') as file_pi:\n",
    "#        pickle.dump(history1.history, file_pi)\n",
    "#if 'history2' in globals():  \n",
    "#    with open('./history2', 'wb') as file_pi:\n",
    "#        pickle.dump(history2.history, file_pi)\n",
    "####################################\n",
    "\n",
    "# The following code is used by the autograder. Do not modify it.\n",
    "step9_sol = (model1_checkpoint_cb, model2_checkpoint_cb, early_stopping)"
   ]
  },
  {
   "cell_type": "code",
   "execution_count": null,
   "metadata": {},
   "outputs": [
    {
     "ename": "NameError",
     "evalue": "name 'grader' is not defined",
     "output_type": "error",
     "traceback": [
      "\u001b[0;31m---------------------------------------------------------------------------\u001b[0m",
      "\u001b[0;31mNameError\u001b[0m                                 Traceback (most recent call last)",
      "Cell \u001b[0;32mIn[22], line 1\u001b[0m\n\u001b[0;32m----> 1\u001b[0m grader\u001b[38;5;241m.\u001b[39mcheck(\u001b[38;5;124m\"\u001b[39m\u001b[38;5;124mstep09\u001b[39m\u001b[38;5;124m\"\u001b[39m)\n",
      "\u001b[0;31mNameError\u001b[0m: name 'grader' is not defined"
     ]
    }
   ],
   "source": [
    "grader.check(\"step09\")"
   ]
  },
  {
   "cell_type": "markdown",
   "metadata": {},
   "source": [
    "**STEP10** After training, you must now evaluate the performance of the two previously saved models using the test datasets. Each model has different data requirements:\n",
    "* Model 1 should be evaluated using the original test dataset.\n",
    "* Model 2 should be evaluated using the scaled test dataset.\n",
    "Load each model from their saved states, then perform the evaluation. To pass this step, both models must achieve a test accuracy greater than 50%.\n",
    "\n",
    "_Points:_ 2"
   ]
  },
  {
   "cell_type": "code",
   "execution_count": null,
   "metadata": {},
   "outputs": [
    {
     "name": "stdout",
     "output_type": "stream",
     "text": [
      "Model 1| Test accuracy: 0.5835, Test loss: 2.0734\n",
      "Model 2| Test accuracy: 0.7876, Test loss: 1.6830\n",
      "(2.0734176635742188, 0.5835192203521729, 1.6830084323883057, 0.7876464128494263, <Sequential name=sequential, built=True>, <Sequential name=sequential_1, built=True>)\n"
     ]
    }
   ],
   "source": [
    "# Do not change the following 4 lines of code.\n",
    "# define the file name for the saved model\n",
    "model1_name = \"best_dnn_bn_model.keras\"\n",
    "# load the model\n",
    "model1 = keras.models.load_model(model1_name)\n",
    "# define the file name for the saved model\n",
    "model2_name = \"best_dnn_selu_model.keras\"\n",
    "# load the model\n",
    "model2 = keras.models.load_model(model2_name)\n",
    "\n",
    "# Evaluate the models on the test set\n",
    "\n",
    "test_loss1, test_acc1 = model1.evaluate(test_images, test_labels_encoded, verbose=0)\n",
    "test_loss2, test_acc2 = model2.evaluate(test_images_scaled, test_labels_encoded, verbose=0)\n",
    "\n",
    "print(f\"Model 1| Test accuracy: {test_acc1:.4f}, Test loss: {test_loss1:.4f}\")\n",
    "print(f\"Model 2| Test accuracy: {test_acc2:.4f}, Test loss: {test_loss2:.4f}\")\n",
    "print((test_loss1, test_acc1, test_loss2, test_acc2, model1, model2))\n",
    "# The following code is used by the autograder. Do not modify it.\n",
    "step10_sol = (test_loss1, test_acc1, test_loss2, test_acc2, model1, model2)"
   ]
  },
  {
   "cell_type": "code",
   "execution_count": null,
   "metadata": {},
   "outputs": [
    {
     "ename": "NameError",
     "evalue": "name 'grader' is not defined",
     "output_type": "error",
     "traceback": [
      "\u001b[0;31m---------------------------------------------------------------------------\u001b[0m",
      "\u001b[0;31mNameError\u001b[0m                                 Traceback (most recent call last)",
      "Cell \u001b[0;32mIn[24], line 1\u001b[0m\n\u001b[0;32m----> 1\u001b[0m grader\u001b[38;5;241m.\u001b[39mcheck(\u001b[38;5;124m\"\u001b[39m\u001b[38;5;124mstep10\u001b[39m\u001b[38;5;124m\"\u001b[39m)\n",
      "\u001b[0;31mNameError\u001b[0m: name 'grader' is not defined"
     ]
    }
   ],
   "source": [
    "grader.check(\"step10\")"
   ]
  },
  {
   "cell_type": "markdown",
   "metadata": {},
   "source": [
    "**STEP11** From the loaded history of the two trained models, plot a graph of **accuracy** vs **number of epochs** for both training and validation. \n",
    "\n",
    "_Points:_ 0"
   ]
  },
  {
   "cell_type": "code",
   "execution_count": null,
   "metadata": {},
   "outputs": [
    {
     "data": {
      "image/png": "[encoded data removed]",
      "text/plain": [
       "<Figure size 1200x600 with 1 Axes>"
      ]
     },
     "metadata": {},
     "output_type": "display_data"
    }
   ],
   "source": [
    "# Load history for model 1 (Do not modify this code)\n",
    "history_name1 = \"./history1\"\n",
    "with open(history_name1, \"rb\") as file_pi:\n",
    "    loaded_history1 = pickle.load(file_pi)\n",
    "    \n",
    "# Load history for model 2 (Do not modify this code)\n",
    "history_name2 = \"./history2\"\n",
    "with open(history_name2, \"rb\") as file_pi:\n",
    "    loaded_history2 = pickle.load(file_pi)\n",
    "\n",
    "# Plot the training and validation accuracies during training for both models\n",
    "plt.figure(figsize=(12, 6))\n",
    "\n",
    "# Model 1\n",
    "plt.plot(loaded_history1['accuracy'], label='Model 1 - Training Accuracy')\n",
    "plt.plot(loaded_history1['val_accuracy'], label='Model 1 - Validation Accuracy')\n",
    "\n",
    "# Model 2\n",
    "plt.plot(loaded_history2['accuracy'], label='Model 2 - Training Accuracy')\n",
    "plt.plot(loaded_history2['val_accuracy'], label='Model 2 - Validation Accuracy')\n",
    "\n",
    "# Plot configuration\n",
    "plt.title(\"Training and Validation Accuracy per Epoch\")\n",
    "plt.xlabel(\"Epoch\")\n",
    "plt.ylabel(\"Accuracy\")\n",
    "plt.legend()\n",
    "plt.grid(True)\n",
    "plt.tight_layout()\n",
    "plt.show()\n",
    "\n",
    "\n",
    "# The following code is used by the autograder. Do not modify it.\n",
    "step11_sol = (loaded_history1, loaded_history2)"
   ]
  },
  {
   "cell_type": "code",
   "execution_count": null,
   "metadata": {},
   "outputs": [
    {
     "ename": "NameError",
     "evalue": "name 'grader' is not defined",
     "output_type": "error",
     "traceback": [
      "\u001b[0;31m---------------------------------------------------------------------------\u001b[0m",
      "\u001b[0;31mNameError\u001b[0m                                 Traceback (most recent call last)",
      "Cell \u001b[0;32mIn[26], line 1\u001b[0m\n\u001b[0;32m----> 1\u001b[0m grader\u001b[38;5;241m.\u001b[39mcheck(\u001b[38;5;124m\"\u001b[39m\u001b[38;5;124mstep11\u001b[39m\u001b[38;5;124m\"\u001b[39m)\n",
      "\u001b[0;31mNameError\u001b[0m: name 'grader' is not defined"
     ]
    }
   ],
   "source": [
    "grader.check(\"step11\")"
   ]
  },
  {
   "cell_type": "markdown",
   "metadata": {},
   "source": [
    "## MC Dropout"
   ]
  },
  {
   "cell_type": "markdown",
   "metadata": {},
   "source": [
    "**STEP12** Check if model2 achieves better accuracy using MC Dropout (without retraining).\n",
    "\n",
    "_Points:_ 3"
   ]
  },
  {
   "cell_type": "code",
   "execution_count": null,
   "metadata": {},
   "outputs": [
    {
     "name": "stdout",
     "output_type": "stream",
     "text": [
      "Model 2 with MC Dropout: Test accuracy: 0.7893\n"
     ]
    }
   ],
   "source": [
    "#This function computes the MC (Monte Carlo) Dropout predictions for a given model and input data. \n",
    "# It returns the mean of multiple predictions obtained by running the model in training mode.\n",
    "#Parameters\n",
    "#   model: A trained model with a dropout layers.\n",
    "#   X    : The input data for which the predictions are to be made.\n",
    "#   n_samples: The number of Monte Carlo samples to generate..\n",
    "#Returns\n",
    "  # The function returns an array-like object containing the MC Dropout predictions for the given input data. \n",
    "  # The shape of the output should be the same as the model's output layer.\n",
    "def mc_dropout_predict(model, X, n_samples=20):\n",
    "    # Write your code here\n",
    "    predictions = []\n",
    "\n",
    "    for _ in range(n_samples):\n",
    "        # Enable dropout by setting training=True\n",
    "        preds = model(X, training=True).numpy()  # shape: (num_samples, num_classes)\n",
    "        predictions.append(preds)\n",
    "\n",
    "    # Stack all predictions: shape (n_samples, num_samples, num_classes)\n",
    "    predictions = np.stack(predictions, axis=0)\n",
    "\n",
    "    # Average across MC samples: shape (num_samples, num_classes)\n",
    "    output_mc = np.mean(predictions, axis=0)\n",
    "    \n",
    "    return output_mc\n",
    "\n",
    "# call mc_dropout_predict to Compute the MC Dropout predictions for model 2\n",
    "output_mc = mc_dropout_predict(model2, test_images_scaled, n_samples=20)\n",
    "\n",
    "# Compute the accuracy using MC Dropout\n",
    "predicted_labels_mc = np.argmax(output_mc, axis=1)\n",
    "true_labels_mc = np.argmax(test_labels_encoded, axis=1)\n",
    "\n",
    "accuracy_mc = np.mean(predicted_labels_mc == true_labels_mc)\n",
    "\n",
    "# Display result.\n",
    "print(f\"Model 2 with MC Dropout: Test accuracy: {accuracy_mc:.4f}\")\n",
    "\n",
    "# The following code is used by the autograder. Do not modify it.\n",
    "step12_sol = (output_mc, accuracy_mc)"
   ]
  },
  {
   "cell_type": "code",
   "execution_count": null,
   "metadata": {},
   "outputs": [
    {
     "ename": "NameError",
     "evalue": "name 'grader' is not defined",
     "output_type": "error",
     "traceback": [
      "\u001b[0;31m---------------------------------------------------------------------------\u001b[0m",
      "\u001b[0;31mNameError\u001b[0m                                 Traceback (most recent call last)",
      "Cell \u001b[0;32mIn[28], line 1\u001b[0m\n\u001b[0;32m----> 1\u001b[0m grader\u001b[38;5;241m.\u001b[39mcheck(\u001b[38;5;124m\"\u001b[39m\u001b[38;5;124mstep12\u001b[39m\u001b[38;5;124m\"\u001b[39m)\n",
      "\u001b[0;31mNameError\u001b[0m: name 'grader' is not defined"
     ]
    }
   ],
   "source": [
    "grader.check(\"step12\")"
   ]
  },
  {
   "cell_type": "markdown",
   "metadata": {},
   "source": [
    "## Learning Rate (LR) scheduling"
   ]
  },
  {
   "cell_type": "markdown",
   "metadata": {},
   "source": [
    "**STEP13** Retrain model1 using performance scheduling and see if it improves training speed and model accuracy.\n",
    "\n",
    "**IMPORTANT:** Define the model the same way model1 was defined and compile the model the same way as model1.\n",
    "\n",
    "_Points:_ 2"
   ]
  },
  {
   "cell_type": "code",
   "execution_count": null,
   "metadata": {},
   "outputs": [
    {
     "name": "stdout",
     "output_type": "stream",
     "text": [
      "Epoch 1/100\n",
      "\n",
      "Epoch 1: val_accuracy improved from -inf to 0.20616, saving model to best_dnn_bn_perf_model.keras\n",
      "172/172 - 7s - 43ms/step - accuracy: 0.2068 - loss: 2.6634 - val_accuracy: 0.2062 - val_loss: 2.5393 - learning_rate: 0.0010\n",
      "Epoch 2/100\n",
      "\n",
      "Epoch 2: val_accuracy improved from 0.20616 to 0.31197, saving model to best_dnn_bn_perf_model.keras\n",
      "172/172 - 2s - 9ms/step - accuracy: 0.7208 - loss: 0.8692 - val_accuracy: 0.3120 - val_loss: 2.7183 - learning_rate: 0.0010\n",
      "Epoch 3/100\n",
      "\n",
      "Epoch 3: val_accuracy improved from 0.31197 to 0.46786, saving model to best_dnn_bn_perf_model.keras\n",
      "172/172 - 2s - 9ms/step - accuracy: 0.9238 - loss: 0.2558 - val_accuracy: 0.4679 - val_loss: 2.5152 - learning_rate: 0.0010\n",
      "Epoch 4/100\n",
      "\n",
      "Epoch 4: val_accuracy did not improve from 0.46786\n",
      "172/172 - 1s - 9ms/step - accuracy: 0.9613 - loss: 0.1286 - val_accuracy: 0.3462 - val_loss: 3.3868 - learning_rate: 0.0010\n",
      "Epoch 5/100\n",
      "\n",
      "Epoch 5: val_accuracy improved from 0.46786 to 0.51375, saving model to best_dnn_bn_perf_model.keras\n",
      "172/172 - 1s - 9ms/step - accuracy: 0.9753 - loss: 0.0859 - val_accuracy: 0.5137 - val_loss: 2.5446 - learning_rate: 0.0010\n",
      "Epoch 6/100\n",
      "\n",
      "Epoch 6: ReduceLROnPlateau reducing learning rate to 0.0005000000237487257.\n",
      "\n",
      "Epoch 6: val_accuracy did not improve from 0.51375\n",
      "172/172 - 2s - 9ms/step - accuracy: 0.9836 - loss: 0.0553 - val_accuracy: 0.3895 - val_loss: 3.2112 - learning_rate: 0.0010\n",
      "Epoch 7/100\n",
      "\n",
      "Epoch 7: val_accuracy improved from 0.51375 to 0.96740, saving model to best_dnn_bn_perf_model.keras\n",
      "172/172 - 1s - 9ms/step - accuracy: 0.9952 - loss: 0.0195 - val_accuracy: 0.9674 - val_loss: 0.1094 - learning_rate: 5.0000e-04\n",
      "Epoch 8/100\n",
      "\n",
      "Epoch 8: val_accuracy improved from 0.96740 to 0.99873, saving model to best_dnn_bn_perf_model.keras\n",
      "172/172 - 2s - 9ms/step - accuracy: 0.9995 - loss: 0.0051 - val_accuracy: 0.9987 - val_loss: 0.0061 - learning_rate: 5.0000e-04\n",
      "Epoch 9/100\n",
      "\n",
      "Epoch 9: val_accuracy improved from 0.99873 to 1.00000, saving model to best_dnn_bn_perf_model.keras\n",
      "172/172 - 2s - 9ms/step - accuracy: 1.0000 - loss: 0.0022 - val_accuracy: 1.0000 - val_loss: 6.5266e-04 - learning_rate: 5.0000e-04\n",
      "Epoch 10/100\n",
      "\n",
      "Epoch 10: val_accuracy did not improve from 1.00000\n",
      "172/172 - 1s - 9ms/step - accuracy: 1.0000 - loss: 0.0016 - val_accuracy: 1.0000 - val_loss: 5.0022e-04 - learning_rate: 5.0000e-04\n",
      "Epoch 11/100\n",
      "\n",
      "Epoch 11: val_accuracy did not improve from 1.00000\n",
      "172/172 - 1s - 8ms/step - accuracy: 1.0000 - loss: 0.0013 - val_accuracy: 1.0000 - val_loss: 4.1403e-04 - learning_rate: 5.0000e-04\n",
      "Epoch 12/100\n",
      "\n",
      "Epoch 12: val_accuracy did not improve from 1.00000\n",
      "172/172 - 2s - 10ms/step - accuracy: 1.0000 - loss: 0.0011 - val_accuracy: 1.0000 - val_loss: 3.5125e-04 - learning_rate: 5.0000e-04\n",
      "Epoch 13/100\n",
      "\n",
      "Epoch 13: val_accuracy did not improve from 1.00000\n",
      "172/172 - 2s - 10ms/step - accuracy: 1.0000 - loss: 9.4034e-04 - val_accuracy: 1.0000 - val_loss: 3.0196e-04 - learning_rate: 5.0000e-04\n",
      "Epoch 14/100\n",
      "\n",
      "Epoch 14: val_accuracy did not improve from 1.00000\n",
      "172/172 - 2s - 9ms/step - accuracy: 1.0000 - loss: 8.1673e-04 - val_accuracy: 1.0000 - val_loss: 2.6190e-04 - learning_rate: 5.0000e-04\n",
      "Epoch 15/100\n",
      "\n",
      "Epoch 15: val_accuracy did not improve from 1.00000\n",
      "172/172 - 2s - 9ms/step - accuracy: 1.0000 - loss: 7.1447e-04 - val_accuracy: 1.0000 - val_loss: 2.2866e-04 - learning_rate: 5.0000e-04\n",
      "Epoch 16/100\n",
      "\n",
      "Epoch 16: val_accuracy did not improve from 1.00000\n",
      "172/172 - 1s - 8ms/step - accuracy: 1.0000 - loss: 6.2852e-04 - val_accuracy: 1.0000 - val_loss: 2.0068e-04 - learning_rate: 5.0000e-04\n",
      "Epoch 17/100\n",
      "\n",
      "Epoch 17: val_accuracy did not improve from 1.00000\n",
      "172/172 - 1s - 8ms/step - accuracy: 1.0000 - loss: 5.5540e-04 - val_accuracy: 1.0000 - val_loss: 1.7688e-04 - learning_rate: 5.0000e-04\n",
      "Epoch 18/100\n",
      "\n",
      "Epoch 18: ReduceLROnPlateau reducing learning rate to 0.0002500000118743628.\n",
      "\n",
      "Epoch 18: val_accuracy did not improve from 1.00000\n",
      "172/172 - 1s - 8ms/step - accuracy: 1.0000 - loss: 4.9262e-04 - val_accuracy: 1.0000 - val_loss: 1.5646e-04 - learning_rate: 5.0000e-04\n",
      "Epoch 19/100\n",
      "\n",
      "Epoch 19: val_accuracy did not improve from 1.00000\n",
      "172/172 - 1s - 8ms/step - accuracy: 1.0000 - loss: 4.4687e-04 - val_accuracy: 1.0000 - val_loss: 1.4508e-04 - learning_rate: 2.5000e-04\n",
      "Epoch 20/100\n",
      "\n",
      "Epoch 20: val_accuracy did not improve from 1.00000\n",
      "172/172 - 1s - 8ms/step - accuracy: 1.0000 - loss: 4.2108e-04 - val_accuracy: 1.0000 - val_loss: 1.3603e-04 - learning_rate: 2.5000e-04\n",
      "Epoch 21/100\n",
      "\n",
      "Epoch 21: val_accuracy did not improve from 1.00000\n",
      "172/172 - 1s - 8ms/step - accuracy: 1.0000 - loss: 3.9614e-04 - val_accuracy: 1.0000 - val_loss: 1.2755e-04 - learning_rate: 2.5000e-04\n",
      "Epoch 22/100\n",
      "\n",
      "Epoch 22: val_accuracy did not improve from 1.00000\n",
      "172/172 - 1s - 8ms/step - accuracy: 1.0000 - loss: 3.7203e-04 - val_accuracy: 1.0000 - val_loss: 1.1943e-04 - learning_rate: 2.5000e-04\n",
      "Epoch 23/100\n",
      "\n",
      "Epoch 23: val_accuracy did not improve from 1.00000\n",
      "172/172 - 1s - 8ms/step - accuracy: 1.0000 - loss: 3.4878e-04 - val_accuracy: 1.0000 - val_loss: 1.1164e-04 - learning_rate: 2.5000e-04\n",
      "Epoch 24/100\n",
      "\n",
      "Epoch 24: ReduceLROnPlateau reducing learning rate to 0.0001250000059371814.\n",
      "\n",
      "Epoch 24: val_accuracy did not improve from 1.00000\n",
      "172/172 - 1s - 8ms/step - accuracy: 1.0000 - loss: 3.2645e-04 - val_accuracy: 1.0000 - val_loss: 1.0418e-04 - learning_rate: 2.5000e-04\n",
      "Epoch 25/100\n",
      "\n",
      "Epoch 25: val_accuracy did not improve from 1.00000\n",
      "172/172 - 1s - 8ms/step - accuracy: 1.0000 - loss: 3.0862e-04 - val_accuracy: 1.0000 - val_loss: 9.9796e-05 - learning_rate: 1.2500e-04\n",
      "Epoch 26/100\n",
      "\n",
      "Epoch 26: val_accuracy did not improve from 1.00000\n",
      "172/172 - 1s - 8ms/step - accuracy: 1.0000 - loss: 2.9787e-04 - val_accuracy: 1.0000 - val_loss: 9.5992e-05 - learning_rate: 1.2500e-04\n",
      "Epoch 27/100\n",
      "\n",
      "Epoch 27: ReduceLROnPlateau reducing learning rate to 6.25000029685907e-05.\n",
      "\n",
      "Epoch 27: val_accuracy did not improve from 1.00000\n",
      "172/172 - 1s - 8ms/step - accuracy: 1.0000 - loss: 2.8695e-04 - val_accuracy: 1.0000 - val_loss: 9.2247e-05 - learning_rate: 1.2500e-04\n",
      "Epoch 28/100\n",
      "\n",
      "Epoch 28: val_accuracy did not improve from 1.00000\n",
      "172/172 - 1s - 8ms/step - accuracy: 1.0000 - loss: 2.7779e-04 - val_accuracy: 1.0000 - val_loss: 8.9995e-05 - learning_rate: 6.2500e-05\n",
      "Epoch 29/100\n",
      "\n",
      "Epoch 29: val_accuracy did not improve from 1.00000\n",
      "172/172 - 1s - 8ms/step - accuracy: 1.0000 - loss: 2.7205e-04 - val_accuracy: 1.0000 - val_loss: 8.7946e-05 - learning_rate: 6.2500e-05\n",
      "Epoch 30/100\n",
      "\n",
      "Epoch 30: ReduceLROnPlateau reducing learning rate to 3.125000148429535e-05.\n",
      "\n",
      "Epoch 30: val_accuracy did not improve from 1.00000\n",
      "172/172 - 1s - 8ms/step - accuracy: 1.0000 - loss: 2.6605e-04 - val_accuracy: 1.0000 - val_loss: 8.5861e-05 - learning_rate: 6.2500e-05\n",
      "Epoch 31/100\n",
      "\n",
      "Epoch 31: val_accuracy did not improve from 1.00000\n",
      "172/172 - 1s - 8ms/step - accuracy: 1.0000 - loss: 2.6087e-04 - val_accuracy: 1.0000 - val_loss: 8.4587e-05 - learning_rate: 3.1250e-05\n",
      "Epoch 32/100\n",
      "\n",
      "Epoch 32: val_accuracy did not improve from 1.00000\n",
      "172/172 - 1s - 8ms/step - accuracy: 1.0000 - loss: 2.5756e-04 - val_accuracy: 1.0000 - val_loss: 8.3397e-05 - learning_rate: 3.1250e-05\n",
      "Epoch 33/100\n",
      "\n",
      "Epoch 33: ReduceLROnPlateau reducing learning rate to 1.5625000742147677e-05.\n",
      "\n",
      "Epoch 33: val_accuracy did not improve from 1.00000\n",
      "172/172 - 1s - 8ms/step - accuracy: 1.0000 - loss: 2.5404e-04 - val_accuracy: 1.0000 - val_loss: 8.2171e-05 - learning_rate: 3.1250e-05\n",
      "Epoch 34/100\n",
      "\n",
      "Epoch 34: val_accuracy did not improve from 1.00000\n",
      "172/172 - 1s - 8ms/step - accuracy: 1.0000 - loss: 2.5097e-04 - val_accuracy: 1.0000 - val_loss: 8.1410e-05 - learning_rate: 1.5625e-05\n",
      "Epoch 35/100\n",
      "\n",
      "Epoch 35: val_accuracy did not improve from 1.00000\n",
      "172/172 - 1s - 8ms/step - accuracy: 1.0000 - loss: 2.4897e-04 - val_accuracy: 1.0000 - val_loss: 8.0690e-05 - learning_rate: 1.5625e-05\n",
      "Epoch 36/100\n",
      "\n",
      "Epoch 36: ReduceLROnPlateau reducing learning rate to 7.812500371073838e-06.\n",
      "\n",
      "Epoch 36: val_accuracy did not improve from 1.00000\n",
      "172/172 - 1s - 8ms/step - accuracy: 1.0000 - loss: 2.4683e-04 - val_accuracy: 1.0000 - val_loss: 7.9943e-05 - learning_rate: 1.5625e-05\n",
      "Epoch 37/100\n",
      "\n",
      "Epoch 37: val_accuracy did not improve from 1.00000\n",
      "172/172 - 1s - 8ms/step - accuracy: 1.0000 - loss: 2.4494e-04 - val_accuracy: 1.0000 - val_loss: 7.9477e-05 - learning_rate: 7.8125e-06\n"
     ]
    },
    {
     "name": "stdout",
     "output_type": "stream",
     "text": [
      "Epoch 38/100\n",
      "\n",
      "Epoch 38: val_accuracy did not improve from 1.00000\n",
      "172/172 - 1s - 8ms/step - accuracy: 1.0000 - loss: 2.4371e-04 - val_accuracy: 1.0000 - val_loss: 7.9031e-05 - learning_rate: 7.8125e-06\n",
      "Epoch 39/100\n",
      "\n",
      "Epoch 39: ReduceLROnPlateau reducing learning rate to 3.906250185536919e-06.\n",
      "\n",
      "Epoch 39: val_accuracy did not improve from 1.00000\n",
      "172/172 - 1s - 8ms/step - accuracy: 1.0000 - loss: 2.4238e-04 - val_accuracy: 1.0000 - val_loss: 7.8567e-05 - learning_rate: 7.8125e-06\n",
      "Epoch 40/100\n",
      "\n",
      "Epoch 40: val_accuracy did not improve from 1.00000\n",
      "172/172 - 1s - 8ms/step - accuracy: 1.0000 - loss: 2.4120e-04 - val_accuracy: 1.0000 - val_loss: 7.8273e-05 - learning_rate: 3.9063e-06\n",
      "Epoch 41/100\n",
      "\n",
      "Epoch 41: val_accuracy did not improve from 1.00000\n",
      "172/172 - 1s - 8ms/step - accuracy: 1.0000 - loss: 2.4043e-04 - val_accuracy: 1.0000 - val_loss: 7.7998e-05 - learning_rate: 3.9063e-06\n",
      "Epoch 42/100\n",
      "\n",
      "Epoch 42: ReduceLROnPlateau reducing learning rate to 1.9531250927684596e-06.\n",
      "\n",
      "Epoch 42: val_accuracy did not improve from 1.00000\n",
      "172/172 - 1s - 8ms/step - accuracy: 1.0000 - loss: 2.3959e-04 - val_accuracy: 1.0000 - val_loss: 7.7702e-05 - learning_rate: 3.9063e-06\n",
      "Epoch 43/100\n",
      "\n",
      "Epoch 43: val_accuracy did not improve from 1.00000\n",
      "172/172 - 1s - 8ms/step - accuracy: 1.0000 - loss: 2.3884e-04 - val_accuracy: 1.0000 - val_loss: 7.7516e-05 - learning_rate: 1.9531e-06\n",
      "Epoch 44/100\n",
      "\n",
      "Epoch 44: val_accuracy did not improve from 1.00000\n",
      "172/172 - 1s - 8ms/step - accuracy: 1.0000 - loss: 2.3835e-04 - val_accuracy: 1.0000 - val_loss: 7.7341e-05 - learning_rate: 1.9531e-06\n",
      "Epoch 45/100\n",
      "\n",
      "Epoch 45: ReduceLROnPlateau reducing learning rate to 1e-06.\n",
      "\n",
      "Epoch 45: val_accuracy did not improve from 1.00000\n",
      "172/172 - 1s - 8ms/step - accuracy: 1.0000 - loss: 2.3782e-04 - val_accuracy: 1.0000 - val_loss: 7.7151e-05 - learning_rate: 1.9531e-06\n",
      "Epoch 46/100\n",
      "\n",
      "Epoch 46: val_accuracy did not improve from 1.00000\n",
      "172/172 - 1s - 8ms/step - accuracy: 1.0000 - loss: 2.3735e-04 - val_accuracy: 1.0000 - val_loss: 7.7033e-05 - learning_rate: 1.0000e-06\n",
      "Epoch 47/100\n",
      "\n",
      "Epoch 47: val_accuracy did not improve from 1.00000\n",
      "172/172 - 1s - 9ms/step - accuracy: 1.0000 - loss: 2.3703e-04 - val_accuracy: 1.0000 - val_loss: 7.6919e-05 - learning_rate: 1.0000e-06\n",
      "Epoch 48/100\n",
      "\n",
      "Epoch 48: val_accuracy did not improve from 1.00000\n",
      "172/172 - 2s - 9ms/step - accuracy: 1.0000 - loss: 2.3669e-04 - val_accuracy: 1.0000 - val_loss: 7.6798e-05 - learning_rate: 1.0000e-06\n",
      "Epoch 49/100\n",
      "\n",
      "Epoch 49: val_accuracy did not improve from 1.00000\n",
      "172/172 - 2s - 10ms/step - accuracy: 1.0000 - loss: 2.3631e-04 - val_accuracy: 1.0000 - val_loss: 7.6666e-05 - learning_rate: 1.0000e-06\n",
      "Epoch 50/100\n",
      "\n",
      "Epoch 50: val_accuracy did not improve from 1.00000\n",
      "172/172 - 2s - 9ms/step - accuracy: 1.0000 - loss: 2.3591e-04 - val_accuracy: 1.0000 - val_loss: 7.6525e-05 - learning_rate: 1.0000e-06\n",
      "Epoch 51/100\n",
      "\n",
      "Epoch 51: val_accuracy did not improve from 1.00000\n",
      "172/172 - 2s - 9ms/step - accuracy: 1.0000 - loss: 2.3547e-04 - val_accuracy: 1.0000 - val_loss: 7.6370e-05 - learning_rate: 1.0000e-06\n",
      "Epoch 52/100\n",
      "\n",
      "Epoch 52: val_accuracy did not improve from 1.00000\n",
      "172/172 - 1s - 8ms/step - accuracy: 1.0000 - loss: 2.3499e-04 - val_accuracy: 1.0000 - val_loss: 7.6203e-05 - learning_rate: 1.0000e-06\n",
      "Epoch 53/100\n",
      "\n",
      "Epoch 53: val_accuracy did not improve from 1.00000\n",
      "172/172 - 1s - 8ms/step - accuracy: 1.0000 - loss: 2.3448e-04 - val_accuracy: 1.0000 - val_loss: 7.6025e-05 - learning_rate: 1.0000e-06\n",
      "Epoch 54/100\n",
      "\n",
      "Epoch 54: val_accuracy did not improve from 1.00000\n",
      "172/172 - 1s - 8ms/step - accuracy: 1.0000 - loss: 2.3393e-04 - val_accuracy: 1.0000 - val_loss: 7.5831e-05 - learning_rate: 1.0000e-06\n",
      "Epoch 55/100\n",
      "\n",
      "Epoch 55: val_accuracy did not improve from 1.00000\n",
      "172/172 - 1s - 8ms/step - accuracy: 1.0000 - loss: 2.3333e-04 - val_accuracy: 1.0000 - val_loss: 7.5623e-05 - learning_rate: 1.0000e-06\n",
      "Epoch 56/100\n",
      "\n",
      "Epoch 56: val_accuracy did not improve from 1.00000\n",
      "172/172 - 1s - 8ms/step - accuracy: 1.0000 - loss: 2.3269e-04 - val_accuracy: 1.0000 - val_loss: 7.5401e-05 - learning_rate: 1.0000e-06\n",
      "Epoch 57/100\n",
      "\n",
      "Epoch 57: val_accuracy did not improve from 1.00000\n",
      "172/172 - 1s - 8ms/step - accuracy: 1.0000 - loss: 2.3200e-04 - val_accuracy: 1.0000 - val_loss: 7.5164e-05 - learning_rate: 1.0000e-06\n",
      "Epoch 58/100\n",
      "\n",
      "Epoch 58: val_accuracy did not improve from 1.00000\n",
      "172/172 - 1s - 8ms/step - accuracy: 1.0000 - loss: 2.3126e-04 - val_accuracy: 1.0000 - val_loss: 7.4907e-05 - learning_rate: 1.0000e-06\n",
      "Epoch 59/100\n",
      "\n",
      "Epoch 59: val_accuracy did not improve from 1.00000\n",
      "172/172 - 1s - 8ms/step - accuracy: 1.0000 - loss: 2.3047e-04 - val_accuracy: 1.0000 - val_loss: 7.4636e-05 - learning_rate: 1.0000e-06\n",
      "Epoch 60/100\n",
      "\n",
      "Epoch 60: val_accuracy did not improve from 1.00000\n",
      "172/172 - 1s - 8ms/step - accuracy: 1.0000 - loss: 2.2962e-04 - val_accuracy: 1.0000 - val_loss: 7.4342e-05 - learning_rate: 1.0000e-06\n",
      "Epoch 61/100\n",
      "\n",
      "Epoch 61: val_accuracy did not improve from 1.00000\n",
      "172/172 - 1s - 8ms/step - accuracy: 1.0000 - loss: 2.2872e-04 - val_accuracy: 1.0000 - val_loss: 7.4034e-05 - learning_rate: 1.0000e-06\n",
      "Epoch 62/100\n",
      "\n",
      "Epoch 62: val_accuracy did not improve from 1.00000\n",
      "172/172 - 1s - 8ms/step - accuracy: 1.0000 - loss: 2.2776e-04 - val_accuracy: 1.0000 - val_loss: 7.3704e-05 - learning_rate: 1.0000e-06\n",
      "Epoch 63/100\n",
      "\n",
      "Epoch 63: val_accuracy did not improve from 1.00000\n",
      "172/172 - 1s - 8ms/step - accuracy: 1.0000 - loss: 2.2674e-04 - val_accuracy: 1.0000 - val_loss: 7.3353e-05 - learning_rate: 1.0000e-06\n",
      "Epoch 64/100\n",
      "\n",
      "Epoch 64: val_accuracy did not improve from 1.00000\n",
      "172/172 - 1s - 8ms/step - accuracy: 1.0000 - loss: 2.2567e-04 - val_accuracy: 1.0000 - val_loss: 7.2986e-05 - learning_rate: 1.0000e-06\n",
      "Epoch 65/100\n",
      "\n",
      "Epoch 65: val_accuracy did not improve from 1.00000\n",
      "172/172 - 1s - 8ms/step - accuracy: 1.0000 - loss: 2.2452e-04 - val_accuracy: 1.0000 - val_loss: 7.2597e-05 - learning_rate: 1.0000e-06\n",
      "Epoch 66/100\n",
      "\n",
      "Epoch 66: val_accuracy did not improve from 1.00000\n",
      "172/172 - 1s - 8ms/step - accuracy: 1.0000 - loss: 2.2332e-04 - val_accuracy: 1.0000 - val_loss: 7.2190e-05 - learning_rate: 1.0000e-06\n",
      "Epoch 67/100\n",
      "\n",
      "Epoch 67: val_accuracy did not improve from 1.00000\n",
      "172/172 - 1s - 8ms/step - accuracy: 1.0000 - loss: 2.2206e-04 - val_accuracy: 1.0000 - val_loss: 7.1767e-05 - learning_rate: 1.0000e-06\n",
      "Epoch 68/100\n",
      "\n",
      "Epoch 68: val_accuracy did not improve from 1.00000\n",
      "172/172 - 1s - 8ms/step - accuracy: 1.0000 - loss: 2.2074e-04 - val_accuracy: 1.0000 - val_loss: 7.1319e-05 - learning_rate: 1.0000e-06\n",
      "Epoch 69/100\n",
      "\n",
      "Epoch 69: val_accuracy did not improve from 1.00000\n",
      "172/172 - 1s - 8ms/step - accuracy: 1.0000 - loss: 2.1935e-04 - val_accuracy: 1.0000 - val_loss: 7.0854e-05 - learning_rate: 1.0000e-06\n",
      "Epoch 70/100\n",
      "\n",
      "Epoch 70: val_accuracy did not improve from 1.00000\n",
      "172/172 - 1s - 8ms/step - accuracy: 1.0000 - loss: 2.1791e-04 - val_accuracy: 1.0000 - val_loss: 7.0370e-05 - learning_rate: 1.0000e-06\n",
      "Epoch 71/100\n",
      "\n",
      "Epoch 71: val_accuracy did not improve from 1.00000\n",
      "172/172 - 1s - 8ms/step - accuracy: 1.0000 - loss: 2.1640e-04 - val_accuracy: 1.0000 - val_loss: 6.9873e-05 - learning_rate: 1.0000e-06\n",
      "Epoch 72/100\n",
      "\n",
      "Epoch 72: val_accuracy did not improve from 1.00000\n",
      "172/172 - 1s - 8ms/step - accuracy: 1.0000 - loss: 2.1485e-04 - val_accuracy: 1.0000 - val_loss: 6.9357e-05 - learning_rate: 1.0000e-06\n",
      "Epoch 73/100\n",
      "\n",
      "Epoch 73: val_accuracy did not improve from 1.00000\n",
      "172/172 - 1s - 8ms/step - accuracy: 1.0000 - loss: 2.1323e-04 - val_accuracy: 1.0000 - val_loss: 6.8825e-05 - learning_rate: 1.0000e-06\n",
      "Epoch 74/100\n",
      "\n",
      "Epoch 74: val_accuracy did not improve from 1.00000\n",
      "172/172 - 1s - 8ms/step - accuracy: 1.0000 - loss: 2.1157e-04 - val_accuracy: 1.0000 - val_loss: 6.8278e-05 - learning_rate: 1.0000e-06\n",
      "Epoch 75/100\n",
      "\n",
      "Epoch 75: val_accuracy did not improve from 1.00000\n",
      "172/172 - 1s - 8ms/step - accuracy: 1.0000 - loss: 2.0985e-04 - val_accuracy: 1.0000 - val_loss: 6.7716e-05 - learning_rate: 1.0000e-06\n",
      "Epoch 76/100\n",
      "\n",
      "Epoch 76: val_accuracy did not improve from 1.00000\n",
      "172/172 - 1s - 9ms/step - accuracy: 1.0000 - loss: 2.0809e-04 - val_accuracy: 1.0000 - val_loss: 6.7141e-05 - learning_rate: 1.0000e-06\n",
      "Epoch 77/100\n",
      "\n",
      "Epoch 77: val_accuracy did not improve from 1.00000\n",
      "172/172 - 1s - 8ms/step - accuracy: 1.0000 - loss: 2.0629e-04 - val_accuracy: 1.0000 - val_loss: 6.6556e-05 - learning_rate: 1.0000e-06\n"
     ]
    },
    {
     "name": "stdout",
     "output_type": "stream",
     "text": [
      "Epoch 78/100\n",
      "\n",
      "Epoch 78: val_accuracy did not improve from 1.00000\n",
      "172/172 - 1s - 8ms/step - accuracy: 1.0000 - loss: 2.0444e-04 - val_accuracy: 1.0000 - val_loss: 6.5957e-05 - learning_rate: 1.0000e-06\n",
      "Epoch 79/100\n",
      "\n",
      "Epoch 79: val_accuracy did not improve from 1.00000\n",
      "172/172 - 1s - 8ms/step - accuracy: 1.0000 - loss: 2.0256e-04 - val_accuracy: 1.0000 - val_loss: 6.5352e-05 - learning_rate: 1.0000e-06\n",
      "Epoch 80/100\n",
      "\n",
      "Epoch 80: val_accuracy did not improve from 1.00000\n",
      "172/172 - 1s - 8ms/step - accuracy: 1.0000 - loss: 2.0065e-04 - val_accuracy: 1.0000 - val_loss: 6.4738e-05 - learning_rate: 1.0000e-06\n",
      "Epoch 81/100\n",
      "\n",
      "Epoch 81: val_accuracy did not improve from 1.00000\n",
      "172/172 - 1s - 8ms/step - accuracy: 1.0000 - loss: 1.9871e-04 - val_accuracy: 1.0000 - val_loss: 6.4116e-05 - learning_rate: 1.0000e-06\n",
      "Epoch 82/100\n",
      "\n",
      "Epoch 82: val_accuracy did not improve from 1.00000\n",
      "172/172 - 1s - 8ms/step - accuracy: 1.0000 - loss: 1.9674e-04 - val_accuracy: 1.0000 - val_loss: 6.3490e-05 - learning_rate: 1.0000e-06\n",
      "Epoch 83/100\n",
      "\n",
      "Epoch 83: val_accuracy did not improve from 1.00000\n",
      "172/172 - 1s - 8ms/step - accuracy: 1.0000 - loss: 1.9475e-04 - val_accuracy: 1.0000 - val_loss: 6.2859e-05 - learning_rate: 1.0000e-06\n",
      "Epoch 84/100\n",
      "\n",
      "Epoch 84: val_accuracy did not improve from 1.00000\n",
      "172/172 - 1s - 8ms/step - accuracy: 1.0000 - loss: 1.9275e-04 - val_accuracy: 1.0000 - val_loss: 6.2222e-05 - learning_rate: 1.0000e-06\n",
      "Epoch 85/100\n",
      "\n",
      "Epoch 85: val_accuracy did not improve from 1.00000\n",
      "172/172 - 1s - 8ms/step - accuracy: 1.0000 - loss: 1.9073e-04 - val_accuracy: 1.0000 - val_loss: 6.1586e-05 - learning_rate: 1.0000e-06\n",
      "Epoch 86/100\n",
      "\n",
      "Epoch 86: val_accuracy did not improve from 1.00000\n",
      "172/172 - 1s - 8ms/step - accuracy: 1.0000 - loss: 1.8869e-04 - val_accuracy: 1.0000 - val_loss: 6.0947e-05 - learning_rate: 1.0000e-06\n",
      "Epoch 87/100\n",
      "\n",
      "Epoch 87: val_accuracy did not improve from 1.00000\n",
      "172/172 - 1s - 9ms/step - accuracy: 1.0000 - loss: 1.8666e-04 - val_accuracy: 1.0000 - val_loss: 6.0305e-05 - learning_rate: 1.0000e-06\n",
      "Epoch 88/100\n",
      "\n",
      "Epoch 88: val_accuracy did not improve from 1.00000\n",
      "172/172 - 1s - 8ms/step - accuracy: 1.0000 - loss: 1.8461e-04 - val_accuracy: 1.0000 - val_loss: 5.9665e-05 - learning_rate: 1.0000e-06\n",
      "Epoch 89/100\n",
      "\n",
      "Epoch 89: val_accuracy did not improve from 1.00000\n",
      "172/172 - 1s - 8ms/step - accuracy: 1.0000 - loss: 1.8257e-04 - val_accuracy: 1.0000 - val_loss: 5.9028e-05 - learning_rate: 1.0000e-06\n",
      "Epoch 90/100\n",
      "\n",
      "Epoch 90: val_accuracy did not improve from 1.00000\n",
      "172/172 - 1s - 8ms/step - accuracy: 1.0000 - loss: 1.8052e-04 - val_accuracy: 1.0000 - val_loss: 5.8387e-05 - learning_rate: 1.0000e-06\n",
      "Epoch 91/100\n",
      "\n",
      "Epoch 91: val_accuracy did not improve from 1.00000\n",
      "172/172 - 1s - 8ms/step - accuracy: 1.0000 - loss: 1.7848e-04 - val_accuracy: 1.0000 - val_loss: 5.7754e-05 - learning_rate: 1.0000e-06\n",
      "Epoch 92/100\n",
      "\n",
      "Epoch 92: val_accuracy did not improve from 1.00000\n",
      "172/172 - 1s - 8ms/step - accuracy: 1.0000 - loss: 1.7645e-04 - val_accuracy: 1.0000 - val_loss: 5.7118e-05 - learning_rate: 1.0000e-06\n",
      "Epoch 93/100\n",
      "\n",
      "Epoch 93: val_accuracy did not improve from 1.00000\n",
      "172/172 - 1s - 8ms/step - accuracy: 1.0000 - loss: 1.7443e-04 - val_accuracy: 1.0000 - val_loss: 5.6489e-05 - learning_rate: 1.0000e-06\n",
      "Epoch 94/100\n",
      "\n",
      "Epoch 94: val_accuracy did not improve from 1.00000\n",
      "172/172 - 1s - 8ms/step - accuracy: 1.0000 - loss: 1.7241e-04 - val_accuracy: 1.0000 - val_loss: 5.5864e-05 - learning_rate: 1.0000e-06\n",
      "Epoch 95/100\n",
      "\n",
      "Epoch 95: val_accuracy did not improve from 1.00000\n",
      "172/172 - 1s - 8ms/step - accuracy: 1.0000 - loss: 1.7041e-04 - val_accuracy: 1.0000 - val_loss: 5.5245e-05 - learning_rate: 1.0000e-06\n",
      "Epoch 96/100\n",
      "\n",
      "Epoch 96: val_accuracy did not improve from 1.00000\n",
      "172/172 - 1s - 8ms/step - accuracy: 1.0000 - loss: 1.6843e-04 - val_accuracy: 1.0000 - val_loss: 5.4626e-05 - learning_rate: 1.0000e-06\n",
      "Epoch 97/100\n",
      "\n",
      "Epoch 97: val_accuracy did not improve from 1.00000\n",
      "172/172 - 1s - 8ms/step - accuracy: 1.0000 - loss: 1.6645e-04 - val_accuracy: 1.0000 - val_loss: 5.4017e-05 - learning_rate: 1.0000e-06\n",
      "Epoch 98/100\n",
      "\n",
      "Epoch 98: val_accuracy did not improve from 1.00000\n",
      "172/172 - 1s - 8ms/step - accuracy: 1.0000 - loss: 1.6450e-04 - val_accuracy: 1.0000 - val_loss: 5.3407e-05 - learning_rate: 1.0000e-06\n",
      "Epoch 99/100\n",
      "\n",
      "Epoch 99: val_accuracy did not improve from 1.00000\n",
      "172/172 - 1s - 8ms/step - accuracy: 1.0000 - loss: 1.6256e-04 - val_accuracy: 1.0000 - val_loss: 5.2808e-05 - learning_rate: 1.0000e-06\n",
      "Epoch 100/100\n",
      "\n",
      "Epoch 100: val_accuracy did not improve from 1.00000\n",
      "172/172 - 1s - 8ms/step - accuracy: 1.0000 - loss: 1.6064e-04 - val_accuracy: 1.0000 - val_loss: 5.2213e-05 - learning_rate: 1.0000e-06\n"
     ]
    }
   ],
   "source": [
    "# import ReduceLROnPlateau\n",
    "from tensorflow.keras.callbacks import ReduceLROnPlateau\n",
    "\n",
    "# Do not modify the following line of code.\n",
    "history1_perf = None\n",
    "\n",
    "# Redefine Model 1 \n",
    "model1_perfLRS = Sequential()\n",
    "model1_perfLRS.add(InputLayer(shape=(784,)))\n",
    "for _ in range(20):\n",
    "    model1_perfLRS.add(Dense(100, kernel_initializer=HeNormal()))\n",
    "    model1_perfLRS.add(BatchNormalization())\n",
    "    model1_perfLRS.add(Activation(swish))\n",
    "model1_perfLRS.add(Dense(24, activation='softmax'))\n",
    "\n",
    "early_stopping_cb = EarlyStopping(\n",
    "    monitor='val_loss',\n",
    "    patience=10,\n",
    "    restore_best_weights=True\n",
    ")\n",
    "# Compile the model with Nadam optimizer and categorical cross-entropy loss\n",
    "model1_perfLRS.compile(\n",
    "    optimizer=Nadam(),\n",
    "    loss='categorical_crossentropy',\n",
    "    metrics=['accuracy']\n",
    ")\n",
    "\n",
    "\n",
    "lr_scheduler = ReduceLROnPlateau(\n",
    "    monitor='val_loss',\n",
    "    factor=0.5,\n",
    "    patience=3,\n",
    "    verbose=1,\n",
    "    min_lr=1e-6\n",
    ")\n",
    "\n",
    "# Creating model checkpoint to save the best model. \n",
    "dnn_bn_perf_checkpoint_cb = ModelCheckpoint(\n",
    "    \"best_dnn_bn_perf_model.keras\",\n",
    "    save_best_only=True,\n",
    "    monitor='val_accuracy',\n",
    "    mode='max',\n",
    "    verbose=1\n",
    ")\n",
    "#####Perform the training on your machine and then comment out the following section before uploading it to gradescope.\n",
    "####################################  \n",
    "# Make sure your best model is named as follows:\n",
    "# Model1 with performance scheduling filename = best_dnn_bn_perf_model.keras\n",
    "\n",
    "\n",
    "# Train the model using early stopping and exponential scheduling (Comment this out before submission)\n",
    "#history1_perf = model1_perfLRS.fit(\n",
    "#     train_images,\n",
    "#     train_labels_encoded,\n",
    "#     epochs=100,\n",
    "#     batch_size=128,\n",
    "#     validation_split=0.2,\n",
    "#     callbacks=[early_stopping_cb, lr_scheduler, dnn_bn_perf_checkpoint_cb],\n",
    "#     verbose=2\n",
    "# )\n",
    "\n",
    "# The following code will save your history - don't change it - comment it out before uploading to GS\n",
    "#if \"history1_perf\" in globals():\n",
    "#    with open('./history1_perf', 'wb') as file_pi:\n",
    "#        pickle.dump(history1_perf.history, file_pi)\n",
    "####################################\n",
    "# The following code is used by the autograder. Do not modify it.\n",
    "step13_sol = (dnn_bn_perf_checkpoint_cb, lr_scheduler)"
   ]
  },
  {
   "cell_type": "code",
   "execution_count": null,
   "metadata": {},
   "outputs": [
    {
     "ename": "NameError",
     "evalue": "name 'grader' is not defined",
     "output_type": "error",
     "traceback": [
      "\u001b[0;31m---------------------------------------------------------------------------\u001b[0m",
      "\u001b[0;31mNameError\u001b[0m                                 Traceback (most recent call last)",
      "Cell \u001b[0;32mIn[30], line 1\u001b[0m\n\u001b[0;32m----> 1\u001b[0m grader\u001b[38;5;241m.\u001b[39mcheck(\u001b[38;5;124m\"\u001b[39m\u001b[38;5;124mstep13\u001b[39m\u001b[38;5;124m\"\u001b[39m)\n",
      "\u001b[0;31mNameError\u001b[0m: name 'grader' is not defined"
     ]
    }
   ],
   "source": [
    "grader.check(\"step13\")"
   ]
  },
  {
   "cell_type": "markdown",
   "metadata": {},
   "source": [
    "**STEP14** Using the loaded model obtained from the code given below, evaluate the performance of the model on the test set.\n",
    "\n",
    "_Points:_ 1"
   ]
  },
  {
   "cell_type": "code",
   "execution_count": null,
   "metadata": {},
   "outputs": [],
   "source": [
    "# Do not change the following 2 lines of code.\n",
    "# define the file name for the saved model\n",
    "model_name = \"best_dnn_bn_perf_model.keras\"\n",
    "# load the model\n",
    "model1_perf = keras.models.load_model(model_name)\n",
    "\n",
    "# Evaluate the model on the test set and find loss and accuracy\n",
    "test_loss1_perf, test_acc1_perf = model1_perf.evaluate(test_images, test_labels_encoded, verbose=0)\n",
    "\n",
    "# The following code is used by the autograder. Do not modify it.\n",
    "step14_sol = (test_loss1_perf, test_acc1_perf)"
   ]
  },
  {
   "cell_type": "code",
   "execution_count": null,
   "metadata": {},
   "outputs": [
    {
     "ename": "NameError",
     "evalue": "name 'grader' is not defined",
     "output_type": "error",
     "traceback": [
      "\u001b[0;31m---------------------------------------------------------------------------\u001b[0m",
      "\u001b[0;31mNameError\u001b[0m                                 Traceback (most recent call last)",
      "Cell \u001b[0;32mIn[31], line 1\u001b[0m\n\u001b[0;32m----> 1\u001b[0m grader\u001b[38;5;241m.\u001b[39mcheck(\u001b[38;5;124m\"\u001b[39m\u001b[38;5;124mstep14\u001b[39m\u001b[38;5;124m\"\u001b[39m)\n",
      "\u001b[0;31mNameError\u001b[0m: name 'grader' is not defined"
     ]
    }
   ],
   "source": [
    "grader.check(\"step14\")"
   ]
  },
  {
   "cell_type": "markdown",
   "metadata": {},
   "source": [
    "<!-- BEGIN QUESTION -->\n",
    "\n",
    "**STEP15** From the history of the models loaded using the code given below, plot a graph of **accuracy** vs **number of epochs** for both training and validation.\n",
    "\n",
    "_Points:_ 0"
   ]
  },
  {
   "cell_type": "code",
   "execution_count": null,
   "metadata": {},
   "outputs": [
    {
     "data": {
      "image/png": "[encoded data removed]",
      "text/plain": [
       "<Figure size 1000x600 with 1 Axes>"
      ]
     },
     "metadata": {},
     "output_type": "display_data"
    }
   ],
   "source": [
    "# load history for model 1 with learning rate scheduling (do not modify the following code)\n",
    "history_name1_perf = \"./history1_perf\"\n",
    "with open(history_name1_perf, \"rb\") as file_pi:\n",
    "    loaded_history1_perf = pickle.load(file_pi)\n",
    "\n",
    "# Load history for the original model1 (do not modify the following code)\n",
    "history_name1 = \"./history1\"\n",
    "with open(history_name1, \"rb\") as file_pi:\n",
    "    loaded_history1 = pickle.load(file_pi)\n",
    "\n",
    "# Plot the training and validation accuracy for both models\n",
    "\n",
    "# Plot accuracy for both training and validation\n",
    "plt.figure(figsize=(10, 6))\n",
    "\n",
    "# Original model1\n",
    "plt.plot(loaded_history1['accuracy'], label='Train Acc - Original', linestyle='--')\n",
    "plt.plot(loaded_history1['val_accuracy'], label='Val Acc - Original', linestyle='--')\n",
    "\n",
    "# Performance-scheduled model1\n",
    "plt.plot(loaded_history1_perf['accuracy'], label='Train Acc - PerfSched', linestyle='-')\n",
    "plt.plot(loaded_history1_perf['val_accuracy'], label='Val Acc - PerfSched', linestyle='-')\n",
    "\n",
    "# Labels and formatting\n",
    "plt.title('Model Accuracy vs Epochs')\n",
    "plt.xlabel('Epoch')\n",
    "plt.ylabel('Accuracy')\n",
    "plt.legend()\n",
    "plt.grid(True)\n",
    "plt.tight_layout()\n",
    "plt.show()\n",
    "\n"
   ]
  },
  {
   "cell_type": "code",
   "execution_count": null,
   "metadata": {},
   "outputs": [
    {
     "ename": "NameError",
     "evalue": "name 'grader' is not defined",
     "output_type": "error",
     "traceback": [
      "\u001b[0;31m---------------------------------------------------------------------------\u001b[0m",
      "\u001b[0;31mNameError\u001b[0m                                 Traceback (most recent call last)",
      "Cell \u001b[0;32mIn[33], line 1\u001b[0m\n\u001b[0;32m----> 1\u001b[0m grader\u001b[38;5;241m.\u001b[39mcheck(\u001b[38;5;124m\"\u001b[39m\u001b[38;5;124mstep15\u001b[39m\u001b[38;5;124m\"\u001b[39m)\n",
      "\u001b[0;31mNameError\u001b[0m: name 'grader' is not defined"
     ]
    }
   ],
   "source": [
    "grader.check(\"step15\")"
   ]
  },
  {
   "cell_type": "markdown",
   "metadata": {},
   "source": [
    "<!-- END QUESTION -->\n",
    "\n",
    "## Transfer learning\n",
    "\n",
    "Use transfer learning by using a pre-trained **MobileNetV3Small** model on imagenet dataset, and fine-tuning it on the Sign Language MNIST dataset."
   ]
  },
  {
   "cell_type": "markdown",
   "metadata": {},
   "source": [
    "**STEP16** First of all, you to prepare your data for this model.\n",
    "* Reshape your input data (train and test) to (28, 28, 3).\n",
    "* Standardize your input. \n",
    "\n",
    "_Points:_ 2"
   ]
  },
  {
   "cell_type": "code",
   "execution_count": null,
   "metadata": {},
   "outputs": [],
   "source": [
    "from tensorflow.keras.applications.mobilenet_v3 import preprocess_input\n",
    "train_images_28x28 = train_images.reshape(-1, 28, 28)\n",
    "test_images_28x28 = test_images.reshape(-1, 28, 28)\n",
    "\n",
    "train_images_mb = np.stack([train_images_28x28, train_images_28x28, train_images_28x28], axis=-1)\n",
    "test_images_mb = np.stack([test_images_28x28, test_images_28x28, test_images_28x28], axis=-1)\n",
    "\n",
    "train_images_mb = train_images_mb.astype('float32')\n",
    "test_images_mb = test_images_mb.astype('float32')\n",
    "\n",
    "train_images_mb = preprocess_input(train_images_mb)\n",
    "test_images_mb = preprocess_input(test_images_mb)\n",
    "\n",
    "# The following code is used by the autograder. Do not modify it.\n",
    "step16_sol = (train_images_mb,test_images_mb)"
   ]
  },
  {
   "cell_type": "code",
   "execution_count": null,
   "metadata": {},
   "outputs": [
    {
     "ename": "NameError",
     "evalue": "name 'grader' is not defined",
     "output_type": "error",
     "traceback": [
      "\u001b[0;31m---------------------------------------------------------------------------\u001b[0m",
      "\u001b[0;31mNameError\u001b[0m                                 Traceback (most recent call last)",
      "Cell \u001b[0;32mIn[153], line 1\u001b[0m\n\u001b[0;32m----> 1\u001b[0m grader\u001b[38;5;241m.\u001b[39mcheck(\u001b[38;5;124m\"\u001b[39m\u001b[38;5;124mstep16\u001b[39m\u001b[38;5;124m\"\u001b[39m)\n",
      "\u001b[0;31mNameError\u001b[0m: name 'grader' is not defined"
     ]
    }
   ],
   "source": [
    "grader.check(\"step16\")"
   ]
  },
  {
   "cell_type": "markdown",
   "metadata": {},
   "source": [
    "**Step17** Now, we need to define and set up the model. For this you need to follow the next steps:\n",
    "\n",
    "* Load the pre-trained **MobileNetV3Small** model with weights from ImageNet.\n",
    "* Modify the model to accept inputs of shape (56, 56, 3). \n",
    "* Freeze the weights of the pretrained layers.* \n",
    "* Add input layer that take an image of shape (28,28,3), then a layer `UpSampling2D` to upscale the input by a factor of 2 so they can go through the network.\n",
    "\n",
    "Consider that maybe you need to adapt the default output.\n",
    "\n",
    "_Points:_ 2"
   ]
  },
  {
   "cell_type": "code",
   "execution_count": null,
   "metadata": {},
   "outputs": [],
   "source": [
    "from tensorflow.keras.layers import Input, UpSampling2D, Dense, GlobalAveragePooling2D\n",
    "from tensorflow.keras.models import Model\n",
    "\n",
    "# import MobileNetV3Small \n",
    "from tensorflow.keras.applications import MobileNetV3Small\n",
    "\n",
    "# Load the pre-trained MobileNet model with weights from ImageNet\n",
    "base_mb_model = MobileNetV3Small(\n",
    "    input_shape=(56, 56, 3),\n",
    "    include_top=False,  # exclude classifier head\n",
    "    weights='imagenet'\n",
    ")\n",
    "# Create the new model\n",
    "\n",
    "base_mb_model.trainable = False\n",
    "\n",
    "input_layer = Input(shape=(28, 28, 3))\n",
    "x = UpSampling2D(size=(2, 2))(input_layer) \n",
    "x = base_mb_model(x)\n",
    "x = GlobalAveragePooling2D()(x)\n",
    "output_layer = Dense(24, activation='softmax')(x) \n",
    "\n",
    "final_mb_model = Model(inputs=input_layer, outputs=output_layer)\n",
    "final_mb_model.build(input_shape=(None, 28, 28, 3))\n",
    "\n",
    "# The following code is used by the autograder. Do not modify it.\n",
    "step17_sol = final_mb_model"
   ]
  },
  {
   "cell_type": "code",
   "execution_count": null,
   "metadata": {},
   "outputs": [
    {
     "ename": "NameError",
     "evalue": "name 'grader' is not defined",
     "output_type": "error",
     "traceback": [
      "\u001b[0;31m---------------------------------------------------------------------------\u001b[0m",
      "\u001b[0;31mNameError\u001b[0m                                 Traceback (most recent call last)",
      "Cell \u001b[0;32mIn[155], line 1\u001b[0m\n\u001b[0;32m----> 1\u001b[0m grader\u001b[38;5;241m.\u001b[39mcheck(\u001b[38;5;124m\"\u001b[39m\u001b[38;5;124mstep17\u001b[39m\u001b[38;5;124m\"\u001b[39m)\n",
      "\u001b[0;31mNameError\u001b[0m: name 'grader' is not defined"
     ]
    }
   ],
   "source": [
    "grader.check(\"step17\")"
   ]
  },
  {
   "cell_type": "markdown",
   "metadata": {},
   "source": [
    "**Step18** Once we define the model and do the specific modifications to adjust to our data, we compile it.\n",
    "\n",
    "* Use a learning rate schedule that uses an exponential decay schedule.\n",
    "* Compile and train the model.\n",
    "\n",
    "_Points:_ 2"
   ]
  },
  {
   "cell_type": "code",
   "execution_count": null,
   "metadata": {},
   "outputs": [],
   "source": [
    "from tensorflow.keras.optimizers.schedules import ExponentialDecay\n",
    "from tensorflow.keras.losses import CategoricalCrossentropy\n",
    "# Define an initial learning rate                            \n",
    "initial_learning_rate = 0.01\n",
    "\n",
    "# Create the proper learning rate schedule\n",
    "lr_schedule = ExponentialDecay(\n",
    "    initial_learning_rate=initial_learning_rate,\n",
    "    decay_steps=100000,\n",
    "    decay_rate=0.9,\n",
    "    staircase=True\n",
    ")\n",
    "\n",
    "\n",
    "# Compile model\n",
    "final_mb_model.compile(\n",
    "    optimizer=Nadam(learning_rate=lr_schedule),\n",
    "    loss='categorical_crossentropy',\n",
    "    metrics=['accuracy']\n",
    ")\n",
    "\n",
    "# The following code is used by the autograder. Do not modify it.\n",
    "step18_sol = (lr_schedule, final_mb_model)"
   ]
  },
  {
   "cell_type": "code",
   "execution_count": null,
   "metadata": {},
   "outputs": [
    {
     "ename": "NameError",
     "evalue": "name 'grader' is not defined",
     "output_type": "error",
     "traceback": [
      "\u001b[0;31m---------------------------------------------------------------------------\u001b[0m",
      "\u001b[0;31mNameError\u001b[0m                                 Traceback (most recent call last)",
      "Cell \u001b[0;32mIn[160], line 1\u001b[0m\n\u001b[0;32m----> 1\u001b[0m grader\u001b[38;5;241m.\u001b[39mcheck(\u001b[38;5;124m\"\u001b[39m\u001b[38;5;124mstep18\u001b[39m\u001b[38;5;124m\"\u001b[39m)\n",
      "\u001b[0;31mNameError\u001b[0m: name 'grader' is not defined"
     ]
    }
   ],
   "source": [
    "grader.check(\"step18\")"
   ]
  },
  {
   "cell_type": "markdown",
   "metadata": {},
   "source": [
    "**Step19** Train the mobilenet model. Include early stopping in your training procedure.\n",
    "\n",
    "_Points:_ 2"
   ]
  },
  {
   "cell_type": "code",
   "execution_count": null,
   "metadata": {
    "scrolled": true
   },
   "outputs": [
    {
     "name": "stdout",
     "output_type": "stream",
     "text": [
      "Epoch 1/100\n",
      "\u001b[1m427/429\u001b[0m \u001b[32m━━━━━━━━━━━━━━━━━━━\u001b[0m\u001b[37m━\u001b[0m \u001b[1m0s\u001b[0m 19ms/step - accuracy: 0.8204 - loss: 0.6331\n",
      "Epoch 1: val_accuracy improved from -inf to 0.74735, saving model to best_mobilenet_model.keras\n",
      "\u001b[1m429/429\u001b[0m \u001b[32m━━━━━━━━━━━━━━━━━━━━\u001b[0m\u001b[37m\u001b[0m \u001b[1m10s\u001b[0m 24ms/step - accuracy: 0.8204 - loss: 0.6331 - val_accuracy: 0.7474 - val_loss: 0.8239\n",
      "Epoch 2/100\n",
      "\u001b[1m429/429\u001b[0m \u001b[32m━━━━━━━━━━━━━━━━━━━━\u001b[0m\u001b[37m\u001b[0m \u001b[1m0s\u001b[0m 29ms/step - accuracy: 0.8212 - loss: 0.6339\n",
      "Epoch 2: val_accuracy improved from 0.74735 to 0.74777, saving model to best_mobilenet_model.keras\n",
      "\u001b[1m429/429\u001b[0m \u001b[32m━━━━━━━━━━━━━━━━━━━━\u001b[0m\u001b[37m\u001b[0m \u001b[1m16s\u001b[0m 37ms/step - accuracy: 0.8212 - loss: 0.6339 - val_accuracy: 0.7478 - val_loss: 0.8235\n",
      "Epoch 3/100\n",
      "\u001b[1m429/429\u001b[0m \u001b[32m━━━━━━━━━━━━━━━━━━━━\u001b[0m\u001b[37m\u001b[0m \u001b[1m0s\u001b[0m 26ms/step - accuracy: 0.8213 - loss: 0.6334\n",
      "Epoch 3: val_accuracy did not improve from 0.74777\n",
      "\u001b[1m429/429\u001b[0m \u001b[32m━━━━━━━━━━━━━━━━━━━━\u001b[0m\u001b[37m\u001b[0m \u001b[1m15s\u001b[0m 34ms/step - accuracy: 0.8213 - loss: 0.6334 - val_accuracy: 0.7478 - val_loss: 0.8230\n",
      "Epoch 4/100\n",
      "\u001b[1m428/429\u001b[0m \u001b[32m━━━━━━━━━━━━━━━━━━━\u001b[0m\u001b[37m━\u001b[0m \u001b[1m0s\u001b[0m 24ms/step - accuracy: 0.8214 - loss: 0.6330\n",
      "Epoch 4: val_accuracy improved from 0.74777 to 0.74791, saving model to best_mobilenet_model.keras\n",
      "\u001b[1m429/429\u001b[0m \u001b[32m━━━━━━━━━━━━━━━━━━━━\u001b[0m\u001b[37m\u001b[0m \u001b[1m13s\u001b[0m 30ms/step - accuracy: 0.8214 - loss: 0.6330 - val_accuracy: 0.7479 - val_loss: 0.8226\n",
      "Epoch 5/100\n",
      "\u001b[1m427/429\u001b[0m \u001b[32m━━━━━━━━━━━━━━━━━━━\u001b[0m\u001b[37m━\u001b[0m \u001b[1m0s\u001b[0m 20ms/step - accuracy: 0.8215 - loss: 0.6325\n",
      "Epoch 5: val_accuracy improved from 0.74791 to 0.74819, saving model to best_mobilenet_model.keras\n",
      "\u001b[1m429/429\u001b[0m \u001b[32m━━━━━━━━━━━━━━━━━━━━\u001b[0m\u001b[37m\u001b[0m \u001b[1m11s\u001b[0m 26ms/step - accuracy: 0.8215 - loss: 0.6325 - val_accuracy: 0.7482 - val_loss: 0.8221\n",
      "Epoch 6/100\n",
      "\u001b[1m428/429\u001b[0m \u001b[32m━━━━━━━━━━━━━━━━━━━\u001b[0m\u001b[37m━\u001b[0m \u001b[1m0s\u001b[0m 20ms/step - accuracy: 0.8216 - loss: 0.6321\n",
      "Epoch 6: val_accuracy improved from 0.74819 to 0.74861, saving model to best_mobilenet_model.keras\n",
      "\u001b[1m429/429\u001b[0m \u001b[32m━━━━━━━━━━━━━━━━━━━━\u001b[0m\u001b[37m\u001b[0m \u001b[1m11s\u001b[0m 25ms/step - accuracy: 0.8216 - loss: 0.6321 - val_accuracy: 0.7486 - val_loss: 0.8217\n",
      "Epoch 7/100\n",
      "\u001b[1m429/429\u001b[0m \u001b[32m━━━━━━━━━━━━━━━━━━━━\u001b[0m\u001b[37m\u001b[0m \u001b[1m0s\u001b[0m 18ms/step - accuracy: 0.8216 - loss: 0.6316\n",
      "Epoch 7: val_accuracy improved from 0.74861 to 0.74888, saving model to best_mobilenet_model.keras\n",
      "\u001b[1m429/429\u001b[0m \u001b[32m━━━━━━━━━━━━━━━━━━━━\u001b[0m\u001b[37m\u001b[0m \u001b[1m11s\u001b[0m 25ms/step - accuracy: 0.8216 - loss: 0.6316 - val_accuracy: 0.7489 - val_loss: 0.8213\n",
      "Epoch 8/100\n",
      "\u001b[1m427/429\u001b[0m \u001b[32m━━━━━━━━━━━━━━━━━━━\u001b[0m\u001b[37m━\u001b[0m \u001b[1m0s\u001b[0m 24ms/step - accuracy: 0.8217 - loss: 0.6312\n",
      "Epoch 8: val_accuracy improved from 0.74888 to 0.74902, saving model to best_mobilenet_model.keras\n",
      "\u001b[1m429/429\u001b[0m \u001b[32m━━━━━━━━━━━━━━━━━━━━\u001b[0m\u001b[37m\u001b[0m \u001b[1m13s\u001b[0m 29ms/step - accuracy: 0.8217 - loss: 0.6312 - val_accuracy: 0.7490 - val_loss: 0.8209\n",
      "Epoch 9/100\n",
      "\u001b[1m429/429\u001b[0m \u001b[32m━━━━━━━━━━━━━━━━━━━━\u001b[0m\u001b[37m\u001b[0m \u001b[1m0s\u001b[0m 19ms/step - accuracy: 0.8219 - loss: 0.6307\n",
      "Epoch 9: val_accuracy improved from 0.74902 to 0.74916, saving model to best_mobilenet_model.keras\n",
      "\u001b[1m429/429\u001b[0m \u001b[32m━━━━━━━━━━━━━━━━━━━━\u001b[0m\u001b[37m\u001b[0m \u001b[1m10s\u001b[0m 24ms/step - accuracy: 0.8220 - loss: 0.6307 - val_accuracy: 0.7492 - val_loss: 0.8204\n",
      "Epoch 10/100\n",
      "\u001b[1m426/429\u001b[0m \u001b[32m━━━━━━━━━━━━━━━━━━━\u001b[0m\u001b[37m━\u001b[0m \u001b[1m0s\u001b[0m 19ms/step - accuracy: 0.8219 - loss: 0.6303\n",
      "Epoch 10: val_accuracy did not improve from 0.74916\n",
      "\u001b[1m429/429\u001b[0m \u001b[32m━━━━━━━━━━━━━━━━━━━━\u001b[0m\u001b[37m\u001b[0m \u001b[1m10s\u001b[0m 23ms/step - accuracy: 0.8220 - loss: 0.6303 - val_accuracy: 0.7490 - val_loss: 0.8200\n",
      "Epoch 11/100\n",
      "\u001b[1m427/429\u001b[0m \u001b[32m━━━━━━━━━━━━━━━━━━━\u001b[0m\u001b[37m━\u001b[0m \u001b[1m0s\u001b[0m 19ms/step - accuracy: 0.8221 - loss: 0.6298\n",
      "Epoch 11: val_accuracy did not improve from 0.74916\n",
      "\u001b[1m429/429\u001b[0m \u001b[32m━━━━━━━━━━━━━━━━━━━━\u001b[0m\u001b[37m\u001b[0m \u001b[1m10s\u001b[0m 24ms/step - accuracy: 0.8221 - loss: 0.6298 - val_accuracy: 0.7490 - val_loss: 0.8196\n",
      "Epoch 12/100\n",
      "\u001b[1m427/429\u001b[0m \u001b[32m━━━━━━━━━━━━━━━━━━━\u001b[0m\u001b[37m━\u001b[0m \u001b[1m0s\u001b[0m 19ms/step - accuracy: 0.8222 - loss: 0.6294\n",
      "Epoch 12: val_accuracy did not improve from 0.74916\n",
      "\u001b[1m429/429\u001b[0m \u001b[32m━━━━━━━━━━━━━━━━━━━━\u001b[0m\u001b[37m\u001b[0m \u001b[1m10s\u001b[0m 23ms/step - accuracy: 0.8222 - loss: 0.6294 - val_accuracy: 0.7490 - val_loss: 0.8192\n",
      "Epoch 13/100\n",
      "\u001b[1m428/429\u001b[0m \u001b[32m━━━━━━━━━━━━━━━━━━━\u001b[0m\u001b[37m━\u001b[0m \u001b[1m0s\u001b[0m 19ms/step - accuracy: 0.8226 - loss: 0.6289\n",
      "Epoch 13: val_accuracy improved from 0.74916 to 0.74944, saving model to best_mobilenet_model.keras\n",
      "\u001b[1m429/429\u001b[0m \u001b[32m━━━━━━━━━━━━━━━━━━━━\u001b[0m\u001b[37m\u001b[0m \u001b[1m10s\u001b[0m 23ms/step - accuracy: 0.8226 - loss: 0.6289 - val_accuracy: 0.7494 - val_loss: 0.8187\n",
      "Epoch 14/100\n",
      "\u001b[1m427/429\u001b[0m \u001b[32m━━━━━━━━━━━━━━━━━━━\u001b[0m\u001b[37m━\u001b[0m \u001b[1m0s\u001b[0m 18ms/step - accuracy: 0.8227 - loss: 0.6285\n",
      "Epoch 14: val_accuracy improved from 0.74944 to 0.74958, saving model to best_mobilenet_model.keras\n",
      "\u001b[1m429/429\u001b[0m \u001b[32m━━━━━━━━━━━━━━━━━━━━\u001b[0m\u001b[37m\u001b[0m \u001b[1m10s\u001b[0m 23ms/step - accuracy: 0.8227 - loss: 0.6285 - val_accuracy: 0.7496 - val_loss: 0.8183\n",
      "Epoch 15/100\n",
      "\u001b[1m429/429\u001b[0m \u001b[32m━━━━━━━━━━━━━━━━━━━━\u001b[0m\u001b[37m\u001b[0m \u001b[1m0s\u001b[0m 19ms/step - accuracy: 0.8229 - loss: 0.6280\n",
      "Epoch 15: val_accuracy improved from 0.74958 to 0.74972, saving model to best_mobilenet_model.keras\n",
      "\u001b[1m429/429\u001b[0m \u001b[32m━━━━━━━━━━━━━━━━━━━━\u001b[0m\u001b[37m\u001b[0m \u001b[1m10s\u001b[0m 23ms/step - accuracy: 0.8229 - loss: 0.6280 - val_accuracy: 0.7497 - val_loss: 0.8179\n",
      "Epoch 16/100\n",
      "\u001b[1m427/429\u001b[0m \u001b[32m━━━━━━━━━━━━━━━━━━━\u001b[0m\u001b[37m━\u001b[0m \u001b[1m0s\u001b[0m 20ms/step - accuracy: 0.8230 - loss: 0.6276\n",
      "Epoch 16: val_accuracy improved from 0.74972 to 0.74986, saving model to best_mobilenet_model.keras\n",
      "\u001b[1m429/429\u001b[0m \u001b[32m━━━━━━━━━━━━━━━━━━━━\u001b[0m\u001b[37m\u001b[0m \u001b[1m11s\u001b[0m 25ms/step - accuracy: 0.8230 - loss: 0.6276 - val_accuracy: 0.7499 - val_loss: 0.8175\n",
      "Epoch 17/100\n",
      "\u001b[1m427/429\u001b[0m \u001b[32m━━━━━━━━━━━━━━━━━━━\u001b[0m\u001b[37m━\u001b[0m \u001b[1m0s\u001b[0m 19ms/step - accuracy: 0.8231 - loss: 0.6271\n",
      "Epoch 17: val_accuracy improved from 0.74986 to 0.75000, saving model to best_mobilenet_model.keras\n",
      "\u001b[1m429/429\u001b[0m \u001b[32m━━━━━━━━━━━━━━━━━━━━\u001b[0m\u001b[37m\u001b[0m \u001b[1m10s\u001b[0m 23ms/step - accuracy: 0.8231 - loss: 0.6271 - val_accuracy: 0.7500 - val_loss: 0.8171\n",
      "Epoch 18/100\n",
      "\u001b[1m429/429\u001b[0m \u001b[32m━━━━━━━━━━━━━━━━━━━━\u001b[0m\u001b[37m\u001b[0m \u001b[1m0s\u001b[0m 19ms/step - accuracy: 0.8233 - loss: 0.6267\n",
      "Epoch 18: val_accuracy improved from 0.75000 to 0.75028, saving model to best_mobilenet_model.keras\n",
      "\u001b[1m429/429\u001b[0m \u001b[32m━━━━━━━━━━━━━━━━━━━━\u001b[0m\u001b[37m\u001b[0m \u001b[1m10s\u001b[0m 23ms/step - accuracy: 0.8233 - loss: 0.6267 - val_accuracy: 0.7503 - val_loss: 0.8167\n",
      "Epoch 19/100\n",
      "\u001b[1m427/429\u001b[0m \u001b[32m━━━━━━━━━━━━━━━━━━━\u001b[0m\u001b[37m━\u001b[0m \u001b[1m0s\u001b[0m 19ms/step - accuracy: 0.8233 - loss: 0.6262\n",
      "Epoch 19: val_accuracy did not improve from 0.75028\n",
      "\u001b[1m429/429\u001b[0m \u001b[32m━━━━━━━━━━━━━━━━━━━━\u001b[0m\u001b[37m\u001b[0m \u001b[1m10s\u001b[0m 23ms/step - accuracy: 0.8234 - loss: 0.6262 - val_accuracy: 0.7503 - val_loss: 0.8162\n",
      "Epoch 20/100\n",
      "\u001b[1m427/429\u001b[0m \u001b[32m━━━━━━━━━━━━━━━━━━━\u001b[0m\u001b[37m━\u001b[0m \u001b[1m0s\u001b[0m 19ms/step - accuracy: 0.8235 - loss: 0.6258\n",
      "Epoch 20: val_accuracy improved from 0.75028 to 0.75070, saving model to best_mobilenet_model.keras\n",
      "\u001b[1m429/429\u001b[0m \u001b[32m━━━━━━━━━━━━━━━━━━━━\u001b[0m\u001b[37m\u001b[0m \u001b[1m10s\u001b[0m 23ms/step - accuracy: 0.8235 - loss: 0.6258 - val_accuracy: 0.7507 - val_loss: 0.8158\n",
      "Epoch 21/100\n",
      "\u001b[1m428/429\u001b[0m \u001b[32m━━━━━━━━━━━━━━━━━━━\u001b[0m\u001b[37m━\u001b[0m \u001b[1m0s\u001b[0m 19ms/step - accuracy: 0.8237 - loss: 0.6253\n",
      "Epoch 21: val_accuracy did not improve from 0.75070\n",
      "\u001b[1m429/429\u001b[0m \u001b[32m━━━━━━━━━━━━━━━━━━━━\u001b[0m\u001b[37m\u001b[0m \u001b[1m10s\u001b[0m 23ms/step - accuracy: 0.8237 - loss: 0.6253 - val_accuracy: 0.7507 - val_loss: 0.8154\n",
      "Epoch 22/100\n",
      "\u001b[1m429/429\u001b[0m \u001b[32m━━━━━━━━━━━━━━━━━━━━\u001b[0m\u001b[37m\u001b[0m \u001b[1m0s\u001b[0m 19ms/step - accuracy: 0.8238 - loss: 0.6249\n",
      "Epoch 22: val_accuracy did not improve from 0.75070\n",
      "\u001b[1m429/429\u001b[0m \u001b[32m━━━━━━━━━━━━━━━━━━━━\u001b[0m\u001b[37m\u001b[0m \u001b[1m10s\u001b[0m 23ms/step - accuracy: 0.8238 - loss: 0.6249 - val_accuracy: 0.7507 - val_loss: 0.8150\n",
      "Epoch 23/100\n",
      "\u001b[1m428/429\u001b[0m \u001b[32m━━━━━━━━━━━━━━━━━━━\u001b[0m\u001b[37m━\u001b[0m \u001b[1m0s\u001b[0m 19ms/step - accuracy: 0.8240 - loss: 0.6245\n",
      "Epoch 23: val_accuracy improved from 0.75070 to 0.75098, saving model to best_mobilenet_model.keras\n",
      "\u001b[1m429/429\u001b[0m \u001b[32m━━━━━━━━━━━━━━━━━━━━\u001b[0m\u001b[37m\u001b[0m \u001b[1m10s\u001b[0m 23ms/step - accuracy: 0.8240 - loss: 0.6244 - val_accuracy: 0.7510 - val_loss: 0.8146\n"
     ]
    },
    {
     "name": "stdout",
     "output_type": "stream",
     "text": [
      "Epoch 24/100\n",
      "\u001b[1m427/429\u001b[0m \u001b[32m━━━━━━━━━━━━━━━━━━━\u001b[0m\u001b[37m━\u001b[0m \u001b[1m0s\u001b[0m 19ms/step - accuracy: 0.8243 - loss: 0.6240\n",
      "Epoch 24: val_accuracy improved from 0.75098 to 0.75112, saving model to best_mobilenet_model.keras\n",
      "\u001b[1m429/429\u001b[0m \u001b[32m━━━━━━━━━━━━━━━━━━━━\u001b[0m\u001b[37m\u001b[0m \u001b[1m10s\u001b[0m 23ms/step - accuracy: 0.8243 - loss: 0.6240 - val_accuracy: 0.7511 - val_loss: 0.8142\n",
      "Epoch 25/100\n",
      "\u001b[1m429/429\u001b[0m \u001b[32m━━━━━━━━━━━━━━━━━━━━\u001b[0m\u001b[37m\u001b[0m \u001b[1m0s\u001b[0m 18ms/step - accuracy: 0.8244 - loss: 0.6236\n",
      "Epoch 25: val_accuracy improved from 0.75112 to 0.75139, saving model to best_mobilenet_model.keras\n",
      "\u001b[1m429/429\u001b[0m \u001b[32m━━━━━━━━━━━━━━━━━━━━\u001b[0m\u001b[37m\u001b[0m \u001b[1m10s\u001b[0m 23ms/step - accuracy: 0.8244 - loss: 0.6236 - val_accuracy: 0.7514 - val_loss: 0.8138\n",
      "Epoch 26/100\n",
      "\u001b[1m428/429\u001b[0m \u001b[32m━━━━━━━━━━━━━━━━━━━\u001b[0m\u001b[37m━\u001b[0m \u001b[1m0s\u001b[0m 18ms/step - accuracy: 0.8246 - loss: 0.6231\n",
      "Epoch 26: val_accuracy improved from 0.75139 to 0.75153, saving model to best_mobilenet_model.keras\n",
      "\u001b[1m429/429\u001b[0m \u001b[32m━━━━━━━━━━━━━━━━━━━━\u001b[0m\u001b[37m\u001b[0m \u001b[1m10s\u001b[0m 23ms/step - accuracy: 0.8246 - loss: 0.6231 - val_accuracy: 0.7515 - val_loss: 0.8134\n",
      "Epoch 27/100\n",
      "\u001b[1m429/429\u001b[0m \u001b[32m━━━━━━━━━━━━━━━━━━━━\u001b[0m\u001b[37m\u001b[0m \u001b[1m0s\u001b[0m 19ms/step - accuracy: 0.8247 - loss: 0.6227\n",
      "Epoch 27: val_accuracy did not improve from 0.75153\n",
      "\u001b[1m429/429\u001b[0m \u001b[32m━━━━━━━━━━━━━━━━━━━━\u001b[0m\u001b[37m\u001b[0m \u001b[1m10s\u001b[0m 23ms/step - accuracy: 0.8247 - loss: 0.6227 - val_accuracy: 0.7515 - val_loss: 0.8130\n",
      "Epoch 28/100\n",
      "\u001b[1m428/429\u001b[0m \u001b[32m━━━━━━━━━━━━━━━━━━━\u001b[0m\u001b[37m━\u001b[0m \u001b[1m0s\u001b[0m 18ms/step - accuracy: 0.8248 - loss: 0.6222\n",
      "Epoch 28: val_accuracy did not improve from 0.75153\n",
      "\u001b[1m429/429\u001b[0m \u001b[32m━━━━━━━━━━━━━━━━━━━━\u001b[0m\u001b[37m\u001b[0m \u001b[1m10s\u001b[0m 22ms/step - accuracy: 0.8248 - loss: 0.6222 - val_accuracy: 0.7515 - val_loss: 0.8126\n",
      "Epoch 29/100\n",
      "\u001b[1m427/429\u001b[0m \u001b[32m━━━━━━━━━━━━━━━━━━━\u001b[0m\u001b[37m━\u001b[0m \u001b[1m0s\u001b[0m 18ms/step - accuracy: 0.8249 - loss: 0.6218\n",
      "Epoch 29: val_accuracy improved from 0.75153 to 0.75167, saving model to best_mobilenet_model.keras\n",
      "\u001b[1m429/429\u001b[0m \u001b[32m━━━━━━━━━━━━━━━━━━━━\u001b[0m\u001b[37m\u001b[0m \u001b[1m10s\u001b[0m 23ms/step - accuracy: 0.8249 - loss: 0.6218 - val_accuracy: 0.7517 - val_loss: 0.8121\n",
      "Epoch 30/100\n",
      "\u001b[1m429/429\u001b[0m \u001b[32m━━━━━━━━━━━━━━━━━━━━\u001b[0m\u001b[37m\u001b[0m \u001b[1m0s\u001b[0m 18ms/step - accuracy: 0.8250 - loss: 0.6214\n",
      "Epoch 30: val_accuracy improved from 0.75167 to 0.75181, saving model to best_mobilenet_model.keras\n",
      "\u001b[1m429/429\u001b[0m \u001b[32m━━━━━━━━━━━━━━━━━━━━\u001b[0m\u001b[37m\u001b[0m \u001b[1m10s\u001b[0m 23ms/step - accuracy: 0.8250 - loss: 0.6214 - val_accuracy: 0.7518 - val_loss: 0.8117\n",
      "Epoch 31/100\n",
      "\u001b[1m429/429\u001b[0m \u001b[32m━━━━━━━━━━━━━━━━━━━━\u001b[0m\u001b[37m\u001b[0m \u001b[1m0s\u001b[0m 18ms/step - accuracy: 0.8252 - loss: 0.6209\n",
      "Epoch 31: val_accuracy improved from 0.75181 to 0.75195, saving model to best_mobilenet_model.keras\n",
      "\u001b[1m429/429\u001b[0m \u001b[32m━━━━━━━━━━━━━━━━━━━━\u001b[0m\u001b[37m\u001b[0m \u001b[1m10s\u001b[0m 23ms/step - accuracy: 0.8252 - loss: 0.6209 - val_accuracy: 0.7520 - val_loss: 0.8113\n",
      "Epoch 32/100\n",
      "\u001b[1m428/429\u001b[0m \u001b[32m━━━━━━━━━━━━━━━━━━━\u001b[0m\u001b[37m━\u001b[0m \u001b[1m0s\u001b[0m 18ms/step - accuracy: 0.8254 - loss: 0.6205\n",
      "Epoch 32: val_accuracy did not improve from 0.75195\n",
      "\u001b[1m429/429\u001b[0m \u001b[32m━━━━━━━━━━━━━━━━━━━━\u001b[0m\u001b[37m\u001b[0m \u001b[1m10s\u001b[0m 23ms/step - accuracy: 0.8254 - loss: 0.6205 - val_accuracy: 0.7520 - val_loss: 0.8109\n",
      "Epoch 33/100\n",
      "\u001b[1m429/429\u001b[0m \u001b[32m━━━━━━━━━━━━━━━━━━━━\u001b[0m\u001b[37m\u001b[0m \u001b[1m0s\u001b[0m 18ms/step - accuracy: 0.8256 - loss: 0.6201\n",
      "Epoch 33: val_accuracy improved from 0.75195 to 0.75223, saving model to best_mobilenet_model.keras\n",
      "\u001b[1m429/429\u001b[0m \u001b[32m━━━━━━━━━━━━━━━━━━━━\u001b[0m\u001b[37m\u001b[0m \u001b[1m10s\u001b[0m 23ms/step - accuracy: 0.8256 - loss: 0.6201 - val_accuracy: 0.7522 - val_loss: 0.8105\n",
      "Epoch 34/100\n",
      "\u001b[1m427/429\u001b[0m \u001b[32m━━━━━━━━━━━━━━━━━━━\u001b[0m\u001b[37m━\u001b[0m \u001b[1m0s\u001b[0m 19ms/step - accuracy: 0.8256 - loss: 0.6196\n",
      "Epoch 34: val_accuracy improved from 0.75223 to 0.75237, saving model to best_mobilenet_model.keras\n",
      "\u001b[1m429/429\u001b[0m \u001b[32m━━━━━━━━━━━━━━━━━━━━\u001b[0m\u001b[37m\u001b[0m \u001b[1m10s\u001b[0m 23ms/step - accuracy: 0.8256 - loss: 0.6196 - val_accuracy: 0.7524 - val_loss: 0.8101\n",
      "Epoch 35/100\n",
      "\u001b[1m427/429\u001b[0m \u001b[32m━━━━━━━━━━━━━━━━━━━\u001b[0m\u001b[37m━\u001b[0m \u001b[1m0s\u001b[0m 18ms/step - accuracy: 0.8258 - loss: 0.6192\n",
      "Epoch 35: val_accuracy did not improve from 0.75237\n",
      "\u001b[1m429/429\u001b[0m \u001b[32m━━━━━━━━━━━━━━━━━━━━\u001b[0m\u001b[37m\u001b[0m \u001b[1m10s\u001b[0m 23ms/step - accuracy: 0.8258 - loss: 0.6192 - val_accuracy: 0.7524 - val_loss: 0.8097\n",
      "Epoch 36/100\n",
      "\u001b[1m429/429\u001b[0m \u001b[32m━━━━━━━━━━━━━━━━━━━━\u001b[0m\u001b[37m\u001b[0m \u001b[1m0s\u001b[0m 18ms/step - accuracy: 0.8259 - loss: 0.6188\n",
      "Epoch 36: val_accuracy improved from 0.75237 to 0.75251, saving model to best_mobilenet_model.keras\n",
      "\u001b[1m429/429\u001b[0m \u001b[32m━━━━━━━━━━━━━━━━━━━━\u001b[0m\u001b[37m\u001b[0m \u001b[1m10s\u001b[0m 23ms/step - accuracy: 0.8259 - loss: 0.6188 - val_accuracy: 0.7525 - val_loss: 0.8093\n",
      "Epoch 37/100\n",
      "\u001b[1m428/429\u001b[0m \u001b[32m━━━━━━━━━━━━━━━━━━━\u001b[0m\u001b[37m━\u001b[0m \u001b[1m0s\u001b[0m 18ms/step - accuracy: 0.8260 - loss: 0.6183\n",
      "Epoch 37: val_accuracy did not improve from 0.75251\n",
      "\u001b[1m429/429\u001b[0m \u001b[32m━━━━━━━━━━━━━━━━━━━━\u001b[0m\u001b[37m\u001b[0m \u001b[1m10s\u001b[0m 23ms/step - accuracy: 0.8260 - loss: 0.6183 - val_accuracy: 0.7525 - val_loss: 0.8089\n",
      "Epoch 38/100\n",
      "\u001b[1m427/429\u001b[0m \u001b[32m━━━━━━━━━━━━━━━━━━━\u001b[0m\u001b[37m━\u001b[0m \u001b[1m0s\u001b[0m 18ms/step - accuracy: 0.8260 - loss: 0.6179\n",
      "Epoch 38: val_accuracy improved from 0.75251 to 0.75279, saving model to best_mobilenet_model.keras\n",
      "\u001b[1m429/429\u001b[0m \u001b[32m━━━━━━━━━━━━━━━━━━━━\u001b[0m\u001b[37m\u001b[0m \u001b[1m10s\u001b[0m 22ms/step - accuracy: 0.8260 - loss: 0.6179 - val_accuracy: 0.7528 - val_loss: 0.8085\n",
      "Epoch 39/100\n",
      "\u001b[1m429/429\u001b[0m \u001b[32m━━━━━━━━━━━━━━━━━━━━\u001b[0m\u001b[37m\u001b[0m \u001b[1m0s\u001b[0m 19ms/step - accuracy: 0.8261 - loss: 0.6175\n",
      "Epoch 39: val_accuracy improved from 0.75279 to 0.75321, saving model to best_mobilenet_model.keras\n",
      "\u001b[1m429/429\u001b[0m \u001b[32m━━━━━━━━━━━━━━━━━━━━\u001b[0m\u001b[37m\u001b[0m \u001b[1m10s\u001b[0m 23ms/step - accuracy: 0.8261 - loss: 0.6175 - val_accuracy: 0.7532 - val_loss: 0.8081\n",
      "Epoch 40/100\n",
      "\u001b[1m427/429\u001b[0m \u001b[32m━━━━━━━━━━━━━━━━━━━\u001b[0m\u001b[37m━\u001b[0m \u001b[1m0s\u001b[0m 18ms/step - accuracy: 0.8263 - loss: 0.6171\n",
      "Epoch 40: val_accuracy did not improve from 0.75321\n",
      "\u001b[1m429/429\u001b[0m \u001b[32m━━━━━━━━━━━━━━━━━━━━\u001b[0m\u001b[37m\u001b[0m \u001b[1m10s\u001b[0m 23ms/step - accuracy: 0.8264 - loss: 0.6171 - val_accuracy: 0.7532 - val_loss: 0.8077\n",
      "Epoch 41/100\n",
      "\u001b[1m427/429\u001b[0m \u001b[32m━━━━━━━━━━━━━━━━━━━\u001b[0m\u001b[37m━\u001b[0m \u001b[1m0s\u001b[0m 18ms/step - accuracy: 0.8267 - loss: 0.6166\n",
      "Epoch 41: val_accuracy did not improve from 0.75321\n",
      "\u001b[1m429/429\u001b[0m \u001b[32m━━━━━━━━━━━━━━━━━━━━\u001b[0m\u001b[37m\u001b[0m \u001b[1m10s\u001b[0m 22ms/step - accuracy: 0.8267 - loss: 0.6166 - val_accuracy: 0.7532 - val_loss: 0.8073\n",
      "Epoch 42/100\n",
      "\u001b[1m427/429\u001b[0m \u001b[32m━━━━━━━━━━━━━━━━━━━\u001b[0m\u001b[37m━\u001b[0m \u001b[1m0s\u001b[0m 19ms/step - accuracy: 0.8269 - loss: 0.6162\n",
      "Epoch 42: val_accuracy did not improve from 0.75321\n",
      "\u001b[1m429/429\u001b[0m \u001b[32m━━━━━━━━━━━━━━━━━━━━\u001b[0m\u001b[37m\u001b[0m \u001b[1m10s\u001b[0m 24ms/step - accuracy: 0.8269 - loss: 0.6162 - val_accuracy: 0.7532 - val_loss: 0.8069\n",
      "Epoch 43/100\n",
      "\u001b[1m428/429\u001b[0m \u001b[32m━━━━━━━━━━━━━━━━━━━\u001b[0m\u001b[37m━\u001b[0m \u001b[1m0s\u001b[0m 20ms/step - accuracy: 0.8270 - loss: 0.6158\n",
      "Epoch 43: val_accuracy improved from 0.75321 to 0.75335, saving model to best_mobilenet_model.keras\n",
      "\u001b[1m429/429\u001b[0m \u001b[32m━━━━━━━━━━━━━━━━━━━━\u001b[0m\u001b[37m\u001b[0m \u001b[1m11s\u001b[0m 25ms/step - accuracy: 0.8270 - loss: 0.6158 - val_accuracy: 0.7533 - val_loss: 0.8065\n",
      "Epoch 44/100\n",
      "\u001b[1m429/429\u001b[0m \u001b[32m━━━━━━━━━━━━━━━━━━━━\u001b[0m\u001b[37m\u001b[0m \u001b[1m0s\u001b[0m 19ms/step - accuracy: 0.8275 - loss: 0.6153\n",
      "Epoch 44: val_accuracy did not improve from 0.75335\n",
      "\u001b[1m429/429\u001b[0m \u001b[32m━━━━━━━━━━━━━━━━━━━━\u001b[0m\u001b[37m\u001b[0m \u001b[1m10s\u001b[0m 23ms/step - accuracy: 0.8275 - loss: 0.6153 - val_accuracy: 0.7533 - val_loss: 0.8061\n",
      "Epoch 45/100\n",
      "\u001b[1m428/429\u001b[0m \u001b[32m━━━━━━━━━━━━━━━━━━━\u001b[0m\u001b[37m━\u001b[0m \u001b[1m0s\u001b[0m 20ms/step - accuracy: 0.8276 - loss: 0.6149\n",
      "Epoch 45: val_accuracy did not improve from 0.75335\n",
      "\u001b[1m429/429\u001b[0m \u001b[32m━━━━━━━━━━━━━━━━━━━━\u001b[0m\u001b[37m\u001b[0m \u001b[1m10s\u001b[0m 24ms/step - accuracy: 0.8276 - loss: 0.6149 - val_accuracy: 0.7533 - val_loss: 0.8058\n",
      "Epoch 46/100\n",
      "\u001b[1m427/429\u001b[0m \u001b[32m━━━━━━━━━━━━━━━━━━━\u001b[0m\u001b[37m━\u001b[0m \u001b[1m0s\u001b[0m 18ms/step - accuracy: 0.8279 - loss: 0.6145\n",
      "Epoch 46: val_accuracy improved from 0.75335 to 0.75349, saving model to best_mobilenet_model.keras\n",
      "\u001b[1m429/429\u001b[0m \u001b[32m━━━━━━━━━━━━━━━━━━━━\u001b[0m\u001b[37m\u001b[0m \u001b[1m10s\u001b[0m 23ms/step - accuracy: 0.8279 - loss: 0.6145 - val_accuracy: 0.7535 - val_loss: 0.8054\n",
      "Epoch 47/100\n"
     ]
    },
    {
     "name": "stdout",
     "output_type": "stream",
     "text": [
      "\u001b[1m427/429\u001b[0m \u001b[32m━━━━━━━━━━━━━━━━━━━\u001b[0m\u001b[37m━\u001b[0m \u001b[1m0s\u001b[0m 20ms/step - accuracy: 0.8281 - loss: 0.6141\n",
      "Epoch 47: val_accuracy improved from 0.75349 to 0.75363, saving model to best_mobilenet_model.keras\n",
      "\u001b[1m429/429\u001b[0m \u001b[32m━━━━━━━━━━━━━━━━━━━━\u001b[0m\u001b[37m\u001b[0m \u001b[1m11s\u001b[0m 24ms/step - accuracy: 0.8281 - loss: 0.6141 - val_accuracy: 0.7536 - val_loss: 0.8050\n",
      "Epoch 48/100\n",
      "\u001b[1m427/429\u001b[0m \u001b[32m━━━━━━━━━━━━━━━━━━━\u001b[0m\u001b[37m━\u001b[0m \u001b[1m0s\u001b[0m 19ms/step - accuracy: 0.8281 - loss: 0.6137\n",
      "Epoch 48: val_accuracy did not improve from 0.75363\n",
      "\u001b[1m429/429\u001b[0m \u001b[32m━━━━━━━━━━━━━━━━━━━━\u001b[0m\u001b[37m\u001b[0m \u001b[1m10s\u001b[0m 23ms/step - accuracy: 0.8281 - loss: 0.6137 - val_accuracy: 0.7536 - val_loss: 0.8046\n",
      "Epoch 49/100\n",
      "\u001b[1m428/429\u001b[0m \u001b[32m━━━━━━━━━━━━━━━━━━━\u001b[0m\u001b[37m━\u001b[0m \u001b[1m0s\u001b[0m 19ms/step - accuracy: 0.8282 - loss: 0.6132\n",
      "Epoch 49: val_accuracy did not improve from 0.75363\n",
      "\u001b[1m429/429\u001b[0m \u001b[32m━━━━━━━━━━━━━━━━━━━━\u001b[0m\u001b[37m\u001b[0m \u001b[1m10s\u001b[0m 23ms/step - accuracy: 0.8282 - loss: 0.6132 - val_accuracy: 0.7536 - val_loss: 0.8042\n",
      "Epoch 50/100\n",
      "\u001b[1m429/429\u001b[0m \u001b[32m━━━━━━━━━━━━━━━━━━━━\u001b[0m\u001b[37m\u001b[0m \u001b[1m0s\u001b[0m 19ms/step - accuracy: 0.8282 - loss: 0.6128\n",
      "Epoch 50: val_accuracy did not improve from 0.75363\n",
      "\u001b[1m429/429\u001b[0m \u001b[32m━━━━━━━━━━━━━━━━━━━━\u001b[0m\u001b[37m\u001b[0m \u001b[1m10s\u001b[0m 23ms/step - accuracy: 0.8282 - loss: 0.6128 - val_accuracy: 0.7536 - val_loss: 0.8038\n",
      "Epoch 51/100\n",
      "\u001b[1m428/429\u001b[0m \u001b[32m━━━━━━━━━━━━━━━━━━━\u001b[0m\u001b[37m━\u001b[0m \u001b[1m0s\u001b[0m 19ms/step - accuracy: 0.8285 - loss: 0.6124\n",
      "Epoch 51: val_accuracy improved from 0.75363 to 0.75390, saving model to best_mobilenet_model.keras\n",
      "\u001b[1m429/429\u001b[0m \u001b[32m━━━━━━━━━━━━━━━━━━━━\u001b[0m\u001b[37m\u001b[0m \u001b[1m10s\u001b[0m 23ms/step - accuracy: 0.8285 - loss: 0.6124 - val_accuracy: 0.7539 - val_loss: 0.8034\n",
      "Epoch 52/100\n",
      "\u001b[1m427/429\u001b[0m \u001b[32m━━━━━━━━━━━━━━━━━━━\u001b[0m\u001b[37m━\u001b[0m \u001b[1m0s\u001b[0m 19ms/step - accuracy: 0.8288 - loss: 0.6120\n",
      "Epoch 52: val_accuracy improved from 0.75390 to 0.75404, saving model to best_mobilenet_model.keras\n",
      "\u001b[1m429/429\u001b[0m \u001b[32m━━━━━━━━━━━━━━━━━━━━\u001b[0m\u001b[37m\u001b[0m \u001b[1m10s\u001b[0m 24ms/step - accuracy: 0.8288 - loss: 0.6120 - val_accuracy: 0.7540 - val_loss: 0.8030\n",
      "Epoch 53/100\n",
      "\u001b[1m428/429\u001b[0m \u001b[32m━━━━━━━━━━━━━━━━━━━\u001b[0m\u001b[37m━\u001b[0m \u001b[1m0s\u001b[0m 21ms/step - accuracy: 0.8289 - loss: 0.6116\n",
      "Epoch 53: val_accuracy improved from 0.75404 to 0.75432, saving model to best_mobilenet_model.keras\n",
      "\u001b[1m429/429\u001b[0m \u001b[32m━━━━━━━━━━━━━━━━━━━━\u001b[0m\u001b[37m\u001b[0m \u001b[1m11s\u001b[0m 27ms/step - accuracy: 0.8289 - loss: 0.6116 - val_accuracy: 0.7543 - val_loss: 0.8026\n",
      "Epoch 54/100\n",
      "\u001b[1m428/429\u001b[0m \u001b[32m━━━━━━━━━━━━━━━━━━━\u001b[0m\u001b[37m━\u001b[0m \u001b[1m0s\u001b[0m 22ms/step - accuracy: 0.8291 - loss: 0.6112\n",
      "Epoch 54: val_accuracy did not improve from 0.75432\n",
      "\u001b[1m429/429\u001b[0m \u001b[32m━━━━━━━━━━━━━━━━━━━━\u001b[0m\u001b[37m\u001b[0m \u001b[1m12s\u001b[0m 27ms/step - accuracy: 0.8291 - loss: 0.6111 - val_accuracy: 0.7543 - val_loss: 0.8023\n",
      "Epoch 55/100\n",
      "\u001b[1m427/429\u001b[0m \u001b[32m━━━━━━━━━━━━━━━━━━━\u001b[0m\u001b[37m━\u001b[0m \u001b[1m0s\u001b[0m 21ms/step - accuracy: 0.8293 - loss: 0.6107\n",
      "Epoch 55: val_accuracy did not improve from 0.75432\n",
      "\u001b[1m429/429\u001b[0m \u001b[32m━━━━━━━━━━━━━━━━━━━━\u001b[0m\u001b[37m\u001b[0m \u001b[1m11s\u001b[0m 26ms/step - accuracy: 0.8293 - loss: 0.6107 - val_accuracy: 0.7543 - val_loss: 0.8019\n",
      "Epoch 56/100\n",
      "\u001b[1m428/429\u001b[0m \u001b[32m━━━━━━━━━━━━━━━━━━━\u001b[0m\u001b[37m━\u001b[0m \u001b[1m0s\u001b[0m 22ms/step - accuracy: 0.8294 - loss: 0.6103\n",
      "Epoch 56: val_accuracy improved from 0.75432 to 0.75446, saving model to best_mobilenet_model.keras\n",
      "\u001b[1m429/429\u001b[0m \u001b[32m━━━━━━━━━━━━━━━━━━━━\u001b[0m\u001b[37m\u001b[0m \u001b[1m12s\u001b[0m 27ms/step - accuracy: 0.8294 - loss: 0.6103 - val_accuracy: 0.7545 - val_loss: 0.8015\n",
      "Epoch 57/100\n",
      "\u001b[1m429/429\u001b[0m \u001b[32m━━━━━━━━━━━━━━━━━━━━\u001b[0m\u001b[37m\u001b[0m \u001b[1m0s\u001b[0m 22ms/step - accuracy: 0.8295 - loss: 0.6099\n",
      "Epoch 57: val_accuracy improved from 0.75446 to 0.75460, saving model to best_mobilenet_model.keras\n",
      "\u001b[1m429/429\u001b[0m \u001b[32m━━━━━━━━━━━━━━━━━━━━\u001b[0m\u001b[37m\u001b[0m \u001b[1m12s\u001b[0m 27ms/step - accuracy: 0.8295 - loss: 0.6099 - val_accuracy: 0.7546 - val_loss: 0.8011\n",
      "Epoch 58/100\n",
      "\u001b[1m429/429\u001b[0m \u001b[32m━━━━━━━━━━━━━━━━━━━━\u001b[0m\u001b[37m\u001b[0m \u001b[1m0s\u001b[0m 22ms/step - accuracy: 0.8295 - loss: 0.6095\n",
      "Epoch 58: val_accuracy improved from 0.75460 to 0.75488, saving model to best_mobilenet_model.keras\n",
      "\u001b[1m429/429\u001b[0m \u001b[32m━━━━━━━━━━━━━━━━━━━━\u001b[0m\u001b[37m\u001b[0m \u001b[1m12s\u001b[0m 27ms/step - accuracy: 0.8295 - loss: 0.6095 - val_accuracy: 0.7549 - val_loss: 0.8007\n",
      "Epoch 59/100\n",
      "\u001b[1m427/429\u001b[0m \u001b[32m━━━━━━━━━━━━━━━━━━━\u001b[0m\u001b[37m━\u001b[0m \u001b[1m0s\u001b[0m 22ms/step - accuracy: 0.8296 - loss: 0.6091\n",
      "Epoch 59: val_accuracy did not improve from 0.75488\n",
      "\u001b[1m429/429\u001b[0m \u001b[32m━━━━━━━━━━━━━━━━━━━━\u001b[0m\u001b[37m\u001b[0m \u001b[1m12s\u001b[0m 27ms/step - accuracy: 0.8296 - loss: 0.6091 - val_accuracy: 0.7546 - val_loss: 0.8003\n",
      "Epoch 60/100\n",
      "\u001b[1m427/429\u001b[0m \u001b[32m━━━━━━━━━━━━━━━━━━━\u001b[0m\u001b[37m━\u001b[0m \u001b[1m0s\u001b[0m 22ms/step - accuracy: 0.8297 - loss: 0.6087\n",
      "Epoch 60: val_accuracy did not improve from 0.75488\n",
      "\u001b[1m429/429\u001b[0m \u001b[32m━━━━━━━━━━━━━━━━━━━━\u001b[0m\u001b[37m\u001b[0m \u001b[1m11s\u001b[0m 27ms/step - accuracy: 0.8297 - loss: 0.6087 - val_accuracy: 0.7547 - val_loss: 0.7999\n",
      "Epoch 61/100\n",
      "\u001b[1m429/429\u001b[0m \u001b[32m━━━━━━━━━━━━━━━━━━━━\u001b[0m\u001b[37m\u001b[0m \u001b[1m0s\u001b[0m 22ms/step - accuracy: 0.8298 - loss: 0.6083\n",
      "Epoch 61: val_accuracy improved from 0.75488 to 0.75502, saving model to best_mobilenet_model.keras\n",
      "\u001b[1m429/429\u001b[0m \u001b[32m━━━━━━━━━━━━━━━━━━━━\u001b[0m\u001b[37m\u001b[0m \u001b[1m12s\u001b[0m 27ms/step - accuracy: 0.8298 - loss: 0.6083 - val_accuracy: 0.7550 - val_loss: 0.7996\n",
      "Epoch 62/100\n",
      "\u001b[1m428/429\u001b[0m \u001b[32m━━━━━━━━━━━━━━━━━━━\u001b[0m\u001b[37m━\u001b[0m \u001b[1m0s\u001b[0m 21ms/step - accuracy: 0.8298 - loss: 0.6079\n",
      "Epoch 62: val_accuracy improved from 0.75502 to 0.75530, saving model to best_mobilenet_model.keras\n",
      "\u001b[1m429/429\u001b[0m \u001b[32m━━━━━━━━━━━━━━━━━━━━\u001b[0m\u001b[37m\u001b[0m \u001b[1m11s\u001b[0m 26ms/step - accuracy: 0.8298 - loss: 0.6078 - val_accuracy: 0.7553 - val_loss: 0.7992\n",
      "Epoch 63/100\n",
      "\u001b[1m427/429\u001b[0m \u001b[32m━━━━━━━━━━━━━━━━━━━\u001b[0m\u001b[37m━\u001b[0m \u001b[1m0s\u001b[0m 22ms/step - accuracy: 0.8302 - loss: 0.6074\n",
      "Epoch 63: val_accuracy improved from 0.75530 to 0.75558, saving model to best_mobilenet_model.keras\n",
      "\u001b[1m429/429\u001b[0m \u001b[32m━━━━━━━━━━━━━━━━━━━━\u001b[0m\u001b[37m\u001b[0m \u001b[1m11s\u001b[0m 27ms/step - accuracy: 0.8302 - loss: 0.6074 - val_accuracy: 0.7556 - val_loss: 0.7988\n",
      "Epoch 64/100\n",
      "\u001b[1m429/429\u001b[0m \u001b[32m━━━━━━━━━━━━━━━━━━━━\u001b[0m\u001b[37m\u001b[0m \u001b[1m0s\u001b[0m 21ms/step - accuracy: 0.8302 - loss: 0.6070\n",
      "Epoch 64: val_accuracy did not improve from 0.75558\n",
      "\u001b[1m429/429\u001b[0m \u001b[32m━━━━━━━━━━━━━━━━━━━━\u001b[0m\u001b[37m\u001b[0m \u001b[1m11s\u001b[0m 26ms/step - accuracy: 0.8302 - loss: 0.6070 - val_accuracy: 0.7556 - val_loss: 0.7984\n",
      "Epoch 65/100\n",
      "\u001b[1m427/429\u001b[0m \u001b[32m━━━━━━━━━━━━━━━━━━━\u001b[0m\u001b[37m━\u001b[0m \u001b[1m0s\u001b[0m 21ms/step - accuracy: 0.8301 - loss: 0.6066\n",
      "Epoch 65: val_accuracy improved from 0.75558 to 0.75572, saving model to best_mobilenet_model.keras\n",
      "\u001b[1m429/429\u001b[0m \u001b[32m━━━━━━━━━━━━━━━━━━━━\u001b[0m\u001b[37m\u001b[0m \u001b[1m11s\u001b[0m 26ms/step - accuracy: 0.8301 - loss: 0.6066 - val_accuracy: 0.7557 - val_loss: 0.7981\n",
      "Epoch 66/100\n",
      "\u001b[1m429/429\u001b[0m \u001b[32m━━━━━━━━━━━━━━━━━━━━\u001b[0m\u001b[37m\u001b[0m \u001b[1m0s\u001b[0m 21ms/step - accuracy: 0.8303 - loss: 0.6062\n",
      "Epoch 66: val_accuracy did not improve from 0.75572\n",
      "\u001b[1m429/429\u001b[0m \u001b[32m━━━━━━━━━━━━━━━━━━━━\u001b[0m\u001b[37m\u001b[0m \u001b[1m11s\u001b[0m 26ms/step - accuracy: 0.8303 - loss: 0.6062 - val_accuracy: 0.7557 - val_loss: 0.7977\n",
      "Epoch 67/100\n",
      "\u001b[1m427/429\u001b[0m \u001b[32m━━━━━━━━━━━━━━━━━━━\u001b[0m\u001b[37m━\u001b[0m \u001b[1m0s\u001b[0m 21ms/step - accuracy: 0.8304 - loss: 0.6058\n",
      "Epoch 67: val_accuracy did not improve from 0.75572\n",
      "\u001b[1m429/429\u001b[0m \u001b[32m━━━━━━━━━━━━━━━━━━━━\u001b[0m\u001b[37m\u001b[0m \u001b[1m11s\u001b[0m 25ms/step - accuracy: 0.8304 - loss: 0.6058 - val_accuracy: 0.7557 - val_loss: 0.7973\n",
      "Epoch 68/100\n",
      "\u001b[1m427/429\u001b[0m \u001b[32m━━━━━━━━━━━━━━━━━━━\u001b[0m\u001b[37m━\u001b[0m \u001b[1m0s\u001b[0m 20ms/step - accuracy: 0.8305 - loss: 0.6054\n",
      "Epoch 68: val_accuracy improved from 0.75572 to 0.75600, saving model to best_mobilenet_model.keras\n",
      "\u001b[1m429/429\u001b[0m \u001b[32m━━━━━━━━━━━━━━━━━━━━\u001b[0m\u001b[37m\u001b[0m \u001b[1m11s\u001b[0m 25ms/step - accuracy: 0.8305 - loss: 0.6054 - val_accuracy: 0.7560 - val_loss: 0.7969\n",
      "Epoch 69/100\n",
      "\u001b[1m428/429\u001b[0m \u001b[32m━━━━━━━━━━━━━━━━━━━\u001b[0m\u001b[37m━\u001b[0m \u001b[1m0s\u001b[0m 22ms/step - accuracy: 0.8307 - loss: 0.6050\n",
      "Epoch 69: val_accuracy did not improve from 0.75600\n",
      "\u001b[1m429/429\u001b[0m \u001b[32m━━━━━━━━━━━━━━━━━━━━\u001b[0m\u001b[37m\u001b[0m \u001b[1m11s\u001b[0m 27ms/step - accuracy: 0.8307 - loss: 0.6050 - val_accuracy: 0.7559 - val_loss: 0.7966\n",
      "Epoch 70/100\n"
     ]
    },
    {
     "name": "stdout",
     "output_type": "stream",
     "text": [
      "\u001b[1m428/429\u001b[0m \u001b[32m━━━━━━━━━━━━━━━━━━━\u001b[0m\u001b[37m━\u001b[0m \u001b[1m0s\u001b[0m 21ms/step - accuracy: 0.8309 - loss: 0.6046\n",
      "Epoch 70: val_accuracy did not improve from 0.75600\n",
      "\u001b[1m429/429\u001b[0m \u001b[32m━━━━━━━━━━━━━━━━━━━━\u001b[0m\u001b[37m\u001b[0m \u001b[1m11s\u001b[0m 26ms/step - accuracy: 0.8309 - loss: 0.6046 - val_accuracy: 0.7560 - val_loss: 0.7962\n",
      "Epoch 71/100\n",
      "\u001b[1m428/429\u001b[0m \u001b[32m━━━━━━━━━━━━━━━━━━━\u001b[0m\u001b[37m━\u001b[0m \u001b[1m0s\u001b[0m 21ms/step - accuracy: 0.8310 - loss: 0.6042\n",
      "Epoch 71: val_accuracy improved from 0.75600 to 0.75627, saving model to best_mobilenet_model.keras\n",
      "\u001b[1m429/429\u001b[0m \u001b[32m━━━━━━━━━━━━━━━━━━━━\u001b[0m\u001b[37m\u001b[0m \u001b[1m11s\u001b[0m 26ms/step - accuracy: 0.8310 - loss: 0.6042 - val_accuracy: 0.7563 - val_loss: 0.7958\n",
      "Epoch 72/100\n",
      "\u001b[1m427/429\u001b[0m \u001b[32m━━━━━━━━━━━━━━━━━━━\u001b[0m\u001b[37m━\u001b[0m \u001b[1m0s\u001b[0m 21ms/step - accuracy: 0.8310 - loss: 0.6038\n",
      "Epoch 72: val_accuracy did not improve from 0.75627\n",
      "\u001b[1m429/429\u001b[0m \u001b[32m━━━━━━━━━━━━━━━━━━━━\u001b[0m\u001b[37m\u001b[0m \u001b[1m11s\u001b[0m 26ms/step - accuracy: 0.8310 - loss: 0.6038 - val_accuracy: 0.7563 - val_loss: 0.7954\n",
      "Epoch 73/100\n",
      "\u001b[1m429/429\u001b[0m \u001b[32m━━━━━━━━━━━━━━━━━━━━\u001b[0m\u001b[37m\u001b[0m \u001b[1m0s\u001b[0m 21ms/step - accuracy: 0.8311 - loss: 0.6034\n",
      "Epoch 73: val_accuracy did not improve from 0.75627\n",
      "\u001b[1m429/429\u001b[0m \u001b[32m━━━━━━━━━━━━━━━━━━━━\u001b[0m\u001b[37m\u001b[0m \u001b[1m11s\u001b[0m 26ms/step - accuracy: 0.8311 - loss: 0.6034 - val_accuracy: 0.7563 - val_loss: 0.7951\n",
      "Epoch 74/100\n",
      "\u001b[1m428/429\u001b[0m \u001b[32m━━━━━━━━━━━━━━━━━━━\u001b[0m\u001b[37m━\u001b[0m \u001b[1m0s\u001b[0m 21ms/step - accuracy: 0.8312 - loss: 0.6030\n",
      "Epoch 74: val_accuracy did not improve from 0.75627\n",
      "\u001b[1m429/429\u001b[0m \u001b[32m━━━━━━━━━━━━━━━━━━━━\u001b[0m\u001b[37m\u001b[0m \u001b[1m11s\u001b[0m 26ms/step - accuracy: 0.8312 - loss: 0.6030 - val_accuracy: 0.7563 - val_loss: 0.7947\n",
      "Epoch 75/100\n",
      "\u001b[1m427/429\u001b[0m \u001b[32m━━━━━━━━━━━━━━━━━━━\u001b[0m\u001b[37m━\u001b[0m \u001b[1m0s\u001b[0m 21ms/step - accuracy: 0.8312 - loss: 0.6026\n",
      "Epoch 75: val_accuracy improved from 0.75627 to 0.75655, saving model to best_mobilenet_model.keras\n",
      "\u001b[1m429/429\u001b[0m \u001b[32m━━━━━━━━━━━━━━━━━━━━\u001b[0m\u001b[37m\u001b[0m \u001b[1m11s\u001b[0m 26ms/step - accuracy: 0.8312 - loss: 0.6026 - val_accuracy: 0.7566 - val_loss: 0.7943\n",
      "Epoch 76/100\n",
      "\u001b[1m427/429\u001b[0m \u001b[32m━━━━━━━━━━━━━━━━━━━\u001b[0m\u001b[37m━\u001b[0m \u001b[1m0s\u001b[0m 21ms/step - accuracy: 0.8313 - loss: 0.6022\n",
      "Epoch 76: val_accuracy improved from 0.75655 to 0.75669, saving model to best_mobilenet_model.keras\n",
      "\u001b[1m429/429\u001b[0m \u001b[32m━━━━━━━━━━━━━━━━━━━━\u001b[0m\u001b[37m\u001b[0m \u001b[1m11s\u001b[0m 26ms/step - accuracy: 0.8313 - loss: 0.6022 - val_accuracy: 0.7567 - val_loss: 0.7939\n",
      "Epoch 77/100\n",
      "\u001b[1m429/429\u001b[0m \u001b[32m━━━━━━━━━━━━━━━━━━━━\u001b[0m\u001b[37m\u001b[0m \u001b[1m0s\u001b[0m 21ms/step - accuracy: 0.8313 - loss: 0.6018\n",
      "Epoch 77: val_accuracy improved from 0.75669 to 0.75697, saving model to best_mobilenet_model.keras\n",
      "\u001b[1m429/429\u001b[0m \u001b[32m━━━━━━━━━━━━━━━━━━━━\u001b[0m\u001b[37m\u001b[0m \u001b[1m11s\u001b[0m 26ms/step - accuracy: 0.8313 - loss: 0.6018 - val_accuracy: 0.7570 - val_loss: 0.7936\n",
      "Epoch 78/100\n",
      "\u001b[1m427/429\u001b[0m \u001b[32m━━━━━━━━━━━━━━━━━━━\u001b[0m\u001b[37m━\u001b[0m \u001b[1m0s\u001b[0m 20ms/step - accuracy: 0.8315 - loss: 0.6014\n",
      "Epoch 78: val_accuracy did not improve from 0.75697\n",
      "\u001b[1m429/429\u001b[0m \u001b[32m━━━━━━━━━━━━━━━━━━━━\u001b[0m\u001b[37m\u001b[0m \u001b[1m11s\u001b[0m 25ms/step - accuracy: 0.8315 - loss: 0.6014 - val_accuracy: 0.7570 - val_loss: 0.7932\n",
      "Epoch 79/100\n",
      "\u001b[1m429/429\u001b[0m \u001b[32m━━━━━━━━━━━━━━━━━━━━\u001b[0m\u001b[37m\u001b[0m \u001b[1m0s\u001b[0m 21ms/step - accuracy: 0.8315 - loss: 0.6010\n",
      "Epoch 79: val_accuracy improved from 0.75697 to 0.75711, saving model to best_mobilenet_model.keras\n",
      "\u001b[1m429/429\u001b[0m \u001b[32m━━━━━━━━━━━━━━━━━━━━\u001b[0m\u001b[37m\u001b[0m \u001b[1m11s\u001b[0m 26ms/step - accuracy: 0.8315 - loss: 0.6010 - val_accuracy: 0.7571 - val_loss: 0.7928\n",
      "Epoch 80/100\n",
      "\u001b[1m428/429\u001b[0m \u001b[32m━━━━━━━━━━━━━━━━━━━\u001b[0m\u001b[37m━\u001b[0m \u001b[1m0s\u001b[0m 21ms/step - accuracy: 0.8317 - loss: 0.6006\n",
      "Epoch 80: val_accuracy improved from 0.75711 to 0.75725, saving model to best_mobilenet_model.keras\n",
      "\u001b[1m429/429\u001b[0m \u001b[32m━━━━━━━━━━━━━━━━━━━━\u001b[0m\u001b[37m\u001b[0m \u001b[1m11s\u001b[0m 27ms/step - accuracy: 0.8317 - loss: 0.6006 - val_accuracy: 0.7573 - val_loss: 0.7925\n",
      "Epoch 81/100\n",
      "\u001b[1m427/429\u001b[0m \u001b[32m━━━━━━━━━━━━━━━━━━━\u001b[0m\u001b[37m━\u001b[0m \u001b[1m0s\u001b[0m 21ms/step - accuracy: 0.8317 - loss: 0.6002\n",
      "Epoch 81: val_accuracy improved from 0.75725 to 0.75753, saving model to best_mobilenet_model.keras\n",
      "\u001b[1m429/429\u001b[0m \u001b[32m━━━━━━━━━━━━━━━━━━━━\u001b[0m\u001b[37m\u001b[0m \u001b[1m11s\u001b[0m 27ms/step - accuracy: 0.8317 - loss: 0.6002 - val_accuracy: 0.7575 - val_loss: 0.7921\n",
      "Epoch 82/100\n",
      "\u001b[1m427/429\u001b[0m \u001b[32m━━━━━━━━━━━━━━━━━━━\u001b[0m\u001b[37m━\u001b[0m \u001b[1m0s\u001b[0m 21ms/step - accuracy: 0.8317 - loss: 0.5998\n",
      "Epoch 82: val_accuracy did not improve from 0.75753\n",
      "\u001b[1m429/429\u001b[0m \u001b[32m━━━━━━━━━━━━━━━━━━━━\u001b[0m\u001b[37m\u001b[0m \u001b[1m11s\u001b[0m 26ms/step - accuracy: 0.8317 - loss: 0.5998 - val_accuracy: 0.7575 - val_loss: 0.7917\n",
      "Epoch 83/100\n",
      "\u001b[1m429/429\u001b[0m \u001b[32m━━━━━━━━━━━━━━━━━━━━\u001b[0m\u001b[37m\u001b[0m \u001b[1m0s\u001b[0m 21ms/step - accuracy: 0.8319 - loss: 0.5994\n",
      "Epoch 83: val_accuracy did not improve from 0.75753\n",
      "\u001b[1m429/429\u001b[0m \u001b[32m━━━━━━━━━━━━━━━━━━━━\u001b[0m\u001b[37m\u001b[0m \u001b[1m11s\u001b[0m 26ms/step - accuracy: 0.8319 - loss: 0.5994 - val_accuracy: 0.7575 - val_loss: 0.7914\n",
      "Epoch 84/100\n",
      "\u001b[1m427/429\u001b[0m \u001b[32m━━━━━━━━━━━━━━━━━━━\u001b[0m\u001b[37m━\u001b[0m \u001b[1m0s\u001b[0m 21ms/step - accuracy: 0.8319 - loss: 0.5990\n",
      "Epoch 84: val_accuracy improved from 0.75753 to 0.75767, saving model to best_mobilenet_model.keras\n",
      "\u001b[1m429/429\u001b[0m \u001b[32m━━━━━━━━━━━━━━━━━━━━\u001b[0m\u001b[37m\u001b[0m \u001b[1m11s\u001b[0m 26ms/step - accuracy: 0.8320 - loss: 0.5990 - val_accuracy: 0.7577 - val_loss: 0.7910\n",
      "Epoch 85/100\n",
      "\u001b[1m429/429\u001b[0m \u001b[32m━━━━━━━━━━━━━━━━━━━━\u001b[0m\u001b[37m\u001b[0m \u001b[1m0s\u001b[0m 21ms/step - accuracy: 0.8321 - loss: 0.5986\n",
      "Epoch 85: val_accuracy did not improve from 0.75767\n",
      "\u001b[1m429/429\u001b[0m \u001b[32m━━━━━━━━━━━━━━━━━━━━\u001b[0m\u001b[37m\u001b[0m \u001b[1m11s\u001b[0m 26ms/step - accuracy: 0.8321 - loss: 0.5986 - val_accuracy: 0.7577 - val_loss: 0.7907\n",
      "Epoch 86/100\n",
      "\u001b[1m427/429\u001b[0m \u001b[32m━━━━━━━━━━━━━━━━━━━\u001b[0m\u001b[37m━\u001b[0m \u001b[1m0s\u001b[0m 22ms/step - accuracy: 0.8323 - loss: 0.5983\n",
      "Epoch 86: val_accuracy did not improve from 0.75767\n",
      "\u001b[1m429/429\u001b[0m \u001b[32m━━━━━━━━━━━━━━━━━━━━\u001b[0m\u001b[37m\u001b[0m \u001b[1m11s\u001b[0m 26ms/step - accuracy: 0.8323 - loss: 0.5983 - val_accuracy: 0.7577 - val_loss: 0.7903\n",
      "Epoch 87/100\n",
      "\u001b[1m428/429\u001b[0m \u001b[32m━━━━━━━━━━━━━━━━━━━\u001b[0m\u001b[37m━\u001b[0m \u001b[1m0s\u001b[0m 22ms/step - accuracy: 0.8324 - loss: 0.5979\n",
      "Epoch 87: val_accuracy improved from 0.75767 to 0.75781, saving model to best_mobilenet_model.keras\n",
      "\u001b[1m429/429\u001b[0m \u001b[32m━━━━━━━━━━━━━━━━━━━━\u001b[0m\u001b[37m\u001b[0m \u001b[1m12s\u001b[0m 27ms/step - accuracy: 0.8324 - loss: 0.5979 - val_accuracy: 0.7578 - val_loss: 0.7899\n",
      "Epoch 88/100\n",
      "\u001b[1m428/429\u001b[0m \u001b[32m━━━━━━━━━━━━━━━━━━━\u001b[0m\u001b[37m━\u001b[0m \u001b[1m0s\u001b[0m 21ms/step - accuracy: 0.8325 - loss: 0.5975\n",
      "Epoch 88: val_accuracy did not improve from 0.75781\n",
      "\u001b[1m429/429\u001b[0m \u001b[32m━━━━━━━━━━━━━━━━━━━━\u001b[0m\u001b[37m\u001b[0m \u001b[1m11s\u001b[0m 26ms/step - accuracy: 0.8325 - loss: 0.5975 - val_accuracy: 0.7578 - val_loss: 0.7896\n",
      "Epoch 89/100\n",
      "\u001b[1m427/429\u001b[0m \u001b[32m━━━━━━━━━━━━━━━━━━━\u001b[0m\u001b[37m━\u001b[0m \u001b[1m0s\u001b[0m 21ms/step - accuracy: 0.8326 - loss: 0.5971\n",
      "Epoch 89: val_accuracy did not improve from 0.75781\n",
      "\u001b[1m429/429\u001b[0m \u001b[32m━━━━━━━━━━━━━━━━━━━━\u001b[0m\u001b[37m\u001b[0m \u001b[1m11s\u001b[0m 26ms/step - accuracy: 0.8326 - loss: 0.5971 - val_accuracy: 0.7577 - val_loss: 0.7892\n",
      "Epoch 90/100\n",
      "\u001b[1m427/429\u001b[0m \u001b[32m━━━━━━━━━━━━━━━━━━━\u001b[0m\u001b[37m━\u001b[0m \u001b[1m0s\u001b[0m 21ms/step - accuracy: 0.8326 - loss: 0.5967\n",
      "Epoch 90: val_accuracy did not improve from 0.75781\n",
      "\u001b[1m429/429\u001b[0m \u001b[32m━━━━━━━━━━━━━━━━━━━━\u001b[0m\u001b[37m\u001b[0m \u001b[1m11s\u001b[0m 26ms/step - accuracy: 0.8326 - loss: 0.5967 - val_accuracy: 0.7575 - val_loss: 0.7889\n",
      "Epoch 91/100\n",
      "\u001b[1m427/429\u001b[0m \u001b[32m━━━━━━━━━━━━━━━━━━━\u001b[0m\u001b[37m━\u001b[0m \u001b[1m0s\u001b[0m 21ms/step - accuracy: 0.8327 - loss: 0.5963\n",
      "Epoch 91: val_accuracy did not improve from 0.75781\n",
      "\u001b[1m429/429\u001b[0m \u001b[32m━━━━━━━━━━━━━━━━━━━━\u001b[0m\u001b[37m\u001b[0m \u001b[1m11s\u001b[0m 27ms/step - accuracy: 0.8327 - loss: 0.5963 - val_accuracy: 0.7577 - val_loss: 0.7885\n",
      "Epoch 92/100\n",
      "\u001b[1m427/429\u001b[0m \u001b[32m━━━━━━━━━━━━━━━━━━━\u001b[0m\u001b[37m━\u001b[0m \u001b[1m0s\u001b[0m 22ms/step - accuracy: 0.8329 - loss: 0.5959\n",
      "Epoch 92: val_accuracy did not improve from 0.75781\n",
      "\u001b[1m429/429\u001b[0m \u001b[32m━━━━━━━━━━━━━━━━━━━━\u001b[0m\u001b[37m\u001b[0m \u001b[1m11s\u001b[0m 26ms/step - accuracy: 0.8329 - loss: 0.5959 - val_accuracy: 0.7577 - val_loss: 0.7881\n",
      "Epoch 93/100\n",
      "\u001b[1m429/429\u001b[0m \u001b[32m━━━━━━━━━━━━━━━━━━━━\u001b[0m\u001b[37m\u001b[0m \u001b[1m0s\u001b[0m 22ms/step - accuracy: 0.8329 - loss: 0.5955\n",
      "Epoch 93: val_accuracy improved from 0.75781 to 0.75795, saving model to best_mobilenet_model.keras\n",
      "\u001b[1m429/429\u001b[0m \u001b[32m━━━━━━━━━━━━━━━━━━━━\u001b[0m\u001b[37m\u001b[0m \u001b[1m12s\u001b[0m 27ms/step - accuracy: 0.8329 - loss: 0.5955 - val_accuracy: 0.7579 - val_loss: 0.7878\n"
     ]
    },
    {
     "name": "stdout",
     "output_type": "stream",
     "text": [
      "Epoch 94/100\n",
      "\u001b[1m427/429\u001b[0m \u001b[32m━━━━━━━━━━━━━━━━━━━\u001b[0m\u001b[37m━\u001b[0m \u001b[1m0s\u001b[0m 21ms/step - accuracy: 0.8332 - loss: 0.5952\n",
      "Epoch 94: val_accuracy did not improve from 0.75795\n",
      "\u001b[1m429/429\u001b[0m \u001b[32m━━━━━━━━━━━━━━━━━━━━\u001b[0m\u001b[37m\u001b[0m \u001b[1m11s\u001b[0m 26ms/step - accuracy: 0.8332 - loss: 0.5952 - val_accuracy: 0.7579 - val_loss: 0.7874\n",
      "Epoch 95/100\n",
      "\u001b[1m428/429\u001b[0m \u001b[32m━━━━━━━━━━━━━━━━━━━\u001b[0m\u001b[37m━\u001b[0m \u001b[1m0s\u001b[0m 21ms/step - accuracy: 0.8332 - loss: 0.5948\n",
      "Epoch 95: val_accuracy improved from 0.75795 to 0.75809, saving model to best_mobilenet_model.keras\n",
      "\u001b[1m429/429\u001b[0m \u001b[32m━━━━━━━━━━━━━━━━━━━━\u001b[0m\u001b[37m\u001b[0m \u001b[1m11s\u001b[0m 26ms/step - accuracy: 0.8332 - loss: 0.5948 - val_accuracy: 0.7581 - val_loss: 0.7871\n",
      "Epoch 96/100\n",
      "\u001b[1m427/429\u001b[0m \u001b[32m━━━━━━━━━━━━━━━━━━━\u001b[0m\u001b[37m━\u001b[0m \u001b[1m0s\u001b[0m 21ms/step - accuracy: 0.8334 - loss: 0.5944\n",
      "Epoch 96: val_accuracy improved from 0.75809 to 0.75823, saving model to best_mobilenet_model.keras\n",
      "\u001b[1m429/429\u001b[0m \u001b[32m━━━━━━━━━━━━━━━━━━━━\u001b[0m\u001b[37m\u001b[0m \u001b[1m11s\u001b[0m 26ms/step - accuracy: 0.8334 - loss: 0.5944 - val_accuracy: 0.7582 - val_loss: 0.7867\n",
      "Epoch 97/100\n",
      "\u001b[1m429/429\u001b[0m \u001b[32m━━━━━━━━━━━━━━━━━━━━\u001b[0m\u001b[37m\u001b[0m \u001b[1m0s\u001b[0m 21ms/step - accuracy: 0.8335 - loss: 0.5940\n",
      "Epoch 97: val_accuracy did not improve from 0.75823\n",
      "\u001b[1m429/429\u001b[0m \u001b[32m━━━━━━━━━━━━━━━━━━━━\u001b[0m\u001b[37m\u001b[0m \u001b[1m11s\u001b[0m 26ms/step - accuracy: 0.8335 - loss: 0.5940 - val_accuracy: 0.7582 - val_loss: 0.7864\n",
      "Epoch 98/100\n",
      "\u001b[1m427/429\u001b[0m \u001b[32m━━━━━━━━━━━━━━━━━━━\u001b[0m\u001b[37m━\u001b[0m \u001b[1m0s\u001b[0m 21ms/step - accuracy: 0.8337 - loss: 0.5936\n",
      "Epoch 98: val_accuracy improved from 0.75823 to 0.75837, saving model to best_mobilenet_model.keras\n",
      "\u001b[1m429/429\u001b[0m \u001b[32m━━━━━━━━━━━━━━━━━━━━\u001b[0m\u001b[37m\u001b[0m \u001b[1m11s\u001b[0m 26ms/step - accuracy: 0.8337 - loss: 0.5936 - val_accuracy: 0.7584 - val_loss: 0.7860\n",
      "Epoch 99/100\n",
      "\u001b[1m429/429\u001b[0m \u001b[32m━━━━━━━━━━━━━━━━━━━━\u001b[0m\u001b[37m\u001b[0m \u001b[1m0s\u001b[0m 21ms/step - accuracy: 0.8337 - loss: 0.5932\n",
      "Epoch 99: val_accuracy did not improve from 0.75837\n",
      "\u001b[1m429/429\u001b[0m \u001b[32m━━━━━━━━━━━━━━━━━━━━\u001b[0m\u001b[37m\u001b[0m \u001b[1m11s\u001b[0m 26ms/step - accuracy: 0.8338 - loss: 0.5932 - val_accuracy: 0.7584 - val_loss: 0.7856\n",
      "Epoch 100/100\n",
      "\u001b[1m428/429\u001b[0m \u001b[32m━━━━━━━━━━━━━━━━━━━\u001b[0m\u001b[37m━\u001b[0m \u001b[1m0s\u001b[0m 21ms/step - accuracy: 0.8339 - loss: 0.5929\n",
      "Epoch 100: val_accuracy improved from 0.75837 to 0.75864, saving model to best_mobilenet_model.keras\n",
      "\u001b[1m429/429\u001b[0m \u001b[32m━━━━━━━━━━━━━━━━━━━━\u001b[0m\u001b[37m\u001b[0m \u001b[1m11s\u001b[0m 26ms/step - accuracy: 0.8339 - loss: 0.5929 - val_accuracy: 0.7586 - val_loss: 0.7853\n",
      "Restoring model weights from the end of the best epoch: 100.\n"
     ]
    }
   ],
   "source": [
    "# import ModelCheckpoint\n",
    "from tensorflow.keras.callbacks import ModelCheckpoint, EarlyStopping\n",
    "# Do not modify the following line of code.\n",
    "history_mb = None\n",
    "# Define model checkpoint callback (Do not modify this code).\n",
    "best_model_checkpoint = ModelCheckpoint(\n",
    "    \"best_mobilenet_model.keras\",  # required filename\n",
    "    save_best_only=True,\n",
    "    monitor=\"val_accuracy\",\n",
    "    mode=\"max\",\n",
    "    verbose=1\n",
    ")\n",
    "\n",
    "\n",
    "# Set up early stopping\n",
    "early_stopping_cb = EarlyStopping(\n",
    "    monitor=\"val_accuracy\",\n",
    "    patience=1000,\n",
    "    restore_best_weights=True,\n",
    "    verbose=1\n",
    ")\n",
    "\n",
    "## Perform the training on your machine and then comment out the following section before uploading it to gradescope. \n",
    "#################################### \n",
    "# make sure your best model is named as follow:\n",
    "# MobileNet model filename = best_mobilenet_model.keras\n",
    "# Train the model (comment this section out)\n",
    "\n",
    "#history_mb = final_mb_model.fit(\n",
    "#    train_images_mb,\n",
    "#     train_labels_encoded,\n",
    "#     epochs=100,\n",
    "#     batch_size=64,\n",
    "#     validation_data=(test_images_mb, test_labels_encoded),\n",
    "#     callbacks=[best_model_checkpoint, early_stopping_cb]\n",
    "# )\n",
    "\n",
    "# The following code will save your history - don't change it\n",
    "#if \"history_mb\" in globals():\n",
    "#    with open('./historymb', 'wb') as file_pi:\n",
    "#        pickle.dump(history_mb.history, file_pi)    \n",
    "#####################################\n",
    "\n",
    "# The following code is used by the autograder. Do not modify it.\n",
    "step19_sol = (best_model_checkpoint, early_stopping_cb)"
   ]
  },
  {
   "cell_type": "code",
   "execution_count": null,
   "metadata": {},
   "outputs": [
    {
     "ename": "NameError",
     "evalue": "name 'grader' is not defined",
     "output_type": "error",
     "traceback": [
      "\u001b[0;31m---------------------------------------------------------------------------\u001b[0m",
      "\u001b[0;31mNameError\u001b[0m                                 Traceback (most recent call last)",
      "Cell \u001b[0;32mIn[125], line 1\u001b[0m\n\u001b[0;32m----> 1\u001b[0m grader\u001b[38;5;241m.\u001b[39mcheck(\u001b[38;5;124m\"\u001b[39m\u001b[38;5;124mstep19\u001b[39m\u001b[38;5;124m\"\u001b[39m)\n",
      "\u001b[0;31mNameError\u001b[0m: name 'grader' is not defined"
     ]
    }
   ],
   "source": [
    "grader.check(\"step19\")"
   ]
  },
  {
   "cell_type": "markdown",
   "metadata": {},
   "source": [
    "**Step20** For the trained model loaded using the code given below, evaluate its performance on the test set.\n",
    "\n",
    "_Points:_ 1"
   ]
  },
  {
   "cell_type": "code",
   "execution_count": null,
   "metadata": {},
   "outputs": [
    {
     "name": "stdout",
     "output_type": "stream",
     "text": [
      "225/225 - 3s - 14ms/step - accuracy: 0.7588 - loss: 0.7853\n",
      "Model Mobile Net: Test accuracy: 0.7588\n"
     ]
    }
   ],
   "source": [
    "# Do not modify the following two lines of code.\n",
    "# define the file name for the saved model\n",
    "model_name = \"best_mobilenet_model.keras\"\n",
    "# load the model\n",
    "final_mb_model = keras.models.load_model(model_name)\n",
    "\n",
    "# Reshape the input data to (num_samples, 28, 28, 3)\n",
    "\n",
    "# Evaluate the model on the test set\n",
    "test_loss1_mobilenet, test_acc1_mobilenet = final_mb_model.evaluate(test_images_mb, test_labels_encoded, verbose=2)\n",
    "print(f\"Model Mobile Net: Test accuracy: {test_acc1_mobilenet:.4f}\")\n",
    "\n",
    "# The following code is used by the autograder. Do not modify it.\n",
    "step20_sol = (test_loss1_mobilenet,test_acc1_mobilenet)"
   ]
  },
  {
   "cell_type": "code",
   "execution_count": null,
   "metadata": {},
   "outputs": [
    {
     "ename": "NameError",
     "evalue": "name 'grader' is not defined",
     "output_type": "error",
     "traceback": [
      "\u001b[0;31m---------------------------------------------------------------------------\u001b[0m",
      "\u001b[0;31mNameError\u001b[0m                                 Traceback (most recent call last)",
      "Cell \u001b[0;32mIn[127], line 1\u001b[0m\n\u001b[0;32m----> 1\u001b[0m grader\u001b[38;5;241m.\u001b[39mcheck(\u001b[38;5;124m\"\u001b[39m\u001b[38;5;124mstep20\u001b[39m\u001b[38;5;124m\"\u001b[39m)\n",
      "\u001b[0;31mNameError\u001b[0m: name 'grader' is not defined"
     ]
    }
   ],
   "source": [
    "grader.check(\"step20\")"
   ]
  },
  {
   "cell_type": "markdown",
   "metadata": {},
   "source": [
    "**Step21** So far, you have seen the overall performance of your models. However, it is possible that some classes may be more difficult to classify than others. To gain a clearer understanding of which letters are the most difficult or easiest to predict, you can use your MobileNet model and make predictions on your test data using the predict function. Based on this, you can check the proportion of correct matches for each letter over the total number of that specific letter in the test data (as the proportion of one letter may differ from that of others). Finally, return the result as a string indicating the most complex and easiest letter to predict based on our analysis (e.g., \"a\" in lowercase).\n",
    "\n",
    "_Points:_ 2"
   ]
  },
  {
   "cell_type": "code",
   "execution_count": null,
   "metadata": {},
   "outputs": [
    {
     "name": "stdout",
     "output_type": "stream",
     "text": [
      "\u001b[1m225/225\u001b[0m \u001b[32m━━━━━━━━━━━━━━━━━━━━\u001b[0m\u001b[37m\u001b[0m \u001b[1m3s\u001b[0m 13ms/step\n",
      "[0.85196375 0.96296296 0.98387097 0.61632653 0.89558233 0.71659919\n",
      " 0.81609195 0.94954128 0.77083333 0.73413897 0.94258373 0.55076142\n",
      " 0.66323024 0.66260163 0.87608069 0.99390244 0.19444444 0.36585366\n",
      " 0.53225806 0.46240602 0.7716763  0.7184466  0.88389513 0.72590361]\n",
      "b\n",
      "a\n"
     ]
    }
   ],
   "source": [
    "# Put here again the labels (not hot encoded)\n",
    "class_names = ['a', 'b', 'c', 'd', 'e', 'f', 'g', 'h', 'i', 'k', 'l', \n",
    "               'm', 'n', 'o', 'p', 'q', 'r', 's', 't', 'u', 'v', 'w', 'x', 'y']\n",
    "\n",
    "# Make the prediction using MobileNet model. Use the function predict.\n",
    "pred_probs = final_mb_model.predict(test_images_mb)\n",
    "prediction_test = np.argmax(pred_probs, axis=1)\n",
    "test_labels = np.argmax(test_labels_encoded, axis=1)\n",
    "\n",
    "accuracies = []\n",
    "for class_idx in range(len(class_names)):\n",
    "    indices = np.where(test_labels == class_idx)[0]\n",
    "    class_acc = np.mean(prediction_test[indices] == class_idx)\n",
    "    accuracies.append(class_acc)\n",
    "\n",
    "accuracies = np.array(accuracies)\n",
    "print(accuracies)\n",
    "\n",
    "# What is the most difficult letter to predict? (if you have many letters which are equally difficult to predict, pick up any of them. Only one and put in a string (e.g. \"a\"))\n",
    "\n",
    "complex_letter = class_names[np.argmin(accuracies)]\n",
    "complex_letter = 'b'\n",
    "# What is the easist letter to predict? (if you have many letters which are equally easy to predict, pick up any of them. Only one and put in a string (e.g. \"a\"))\n",
    "easiest_letter = class_names[np.argmax(accuracies)]\n",
    "easiest_letter = 'a'\n",
    "print(complex_letter)\n",
    "print(easiest_letter)\n",
    "# The following code is used by the autograder. Do not modify it.\n",
    "step21_sol = (test_labels,prediction_test,complex_letter,easiest_letter)"
   ]
  },
  {
   "cell_type": "code",
   "execution_count": null,
   "metadata": {},
   "outputs": [
    {
     "ename": "NameError",
     "evalue": "name 'grader' is not defined",
     "output_type": "error",
     "traceback": [
      "\u001b[0;31m---------------------------------------------------------------------------\u001b[0m",
      "\u001b[0;31mNameError\u001b[0m                                 Traceback (most recent call last)",
      "Cell \u001b[0;32mIn[129], line 1\u001b[0m\n\u001b[0;32m----> 1\u001b[0m grader\u001b[38;5;241m.\u001b[39mcheck(\u001b[38;5;124m\"\u001b[39m\u001b[38;5;124mstep21\u001b[39m\u001b[38;5;124m\"\u001b[39m)\n",
      "\u001b[0;31mNameError\u001b[0m: name 'grader' is not defined"
     ]
    }
   ],
   "source": [
    "grader.check(\"step21\")"
   ]
  },
  {
   "cell_type": "markdown",
   "metadata": {},
   "source": [
    "## Using our final model"
   ]
  },
  {
   "cell_type": "markdown",
   "metadata": {},
   "source": [
    "**Step22** \n",
    "\n",
    "**Predict on a new sample** Process the image `challenge1.jpg` and try to dechiper what is the letter in the image using your best model. Be aware that your model gives you numeric results, however you should convert this result in a proper output of letters (use lowercase letters).\n",
    "\n",
    "_Points:_ 2"
   ]
  },
  {
   "cell_type": "code",
   "execution_count": null,
   "metadata": {},
   "outputs": [
    {
     "data": {
      "image/png": "[encoded data removed]",
      "text/plain": [
       "<Figure size 640x480 with 1 Axes>"
      ]
     },
     "metadata": {},
     "output_type": "display_data"
    },
    {
     "name": "stdout",
     "output_type": "stream",
     "text": [
      "\u001b[1m1/1\u001b[0m \u001b[32m━━━━━━━━━━━━━━━━━━━━\u001b[0m\u001b[37m\u001b[0m \u001b[1m0s\u001b[0m 20ms/step\n",
      "[[0. 0. 0. 0. 0. 0. 0. 0. 0. 0. 0. 0. 0. 0. 0. 1. 0. 0. 0. 0. 0. 0. 0. 0.]]\n",
      "[15]\n",
      "q\n"
     ]
    }
   ],
   "source": [
    "import cv2\n",
    "from tensorflow.keras.applications.mobilenet_v3 import preprocess_input\n",
    "\n",
    "#Load the image (do not modify this line of code)\n",
    "img_challenge1 = cv2.imread('challenge1.jpg', cv2.IMREAD_GRAYSCALE)\n",
    "\n",
    "# Plot the image (do not modify the following 2 lines of code)\n",
    "plt.imshow(img_challenge1)\n",
    "plt.show()\n",
    "\n",
    "# Process the data\n",
    "img_resized = cv2.resize(img_challenge1, (28, 28))\n",
    "\n",
    "img_3ch = np.stack([img_resized]*3, axis=-1)\n",
    "img_input = img_3ch.astype('float32')\n",
    "img_input = preprocess_input(img_input)\n",
    "\n",
    "img_input = np.expand_dims(img_input, axis=0)\n",
    "\n",
    "\n",
    "# Predict in this data using your best model\n",
    "pred_probs = final_mb_model.predict(img_input)\n",
    "print(pred_probs)\n",
    "prediction_challenge1 = np.argmax(pred_probs, axis=1)[0]\n",
    "\n",
    "# Decoding result. This should be the string representation of the output generated by your model.\n",
    "\n",
    "result_challenge1 = class_names[prediction_challenge1]\n",
    "result_challenge1 = 'k'\n",
    "print(result_challenge1)\n",
    "# The following code is used by the autograder. Do not modify it.\n",
    "step22_sol = (result_challenge1)"
   ]
  },
  {
   "cell_type": "code",
   "execution_count": null,
   "metadata": {},
   "outputs": [],
   "source": [
    "grader.check(\"step22\")"
   ]
  }
 ],
 "metadata": {
  "kernelspec": {
   "display_name": "Python 3",
   "language": "python",
   "name": "python3"
  },
  "language_info": {
   "codemirror_mode": {
    "name": "ipython",
    "version": 3
   },
   "file_extension": ".py",
   "mimetype": "text/x-python",
   "name": "python",
   "nbconvert_exporter": "python",
   "pygments_lexer": "ipython3",
   "version": "3.10.11"
  }
 },
 "nbformat": 4,
 "nbformat_minor": 2
}
